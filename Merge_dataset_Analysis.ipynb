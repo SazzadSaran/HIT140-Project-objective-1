{
  "nbformat": 4,
  "nbformat_minor": 0,
  "metadata": {
    "colab": {
      "provenance": []
    },
    "kernelspec": {
      "name": "python3",
      "display_name": "Python 3"
    },
    "language_info": {
      "name": "python"
    }
  },
  "cells": [
    {
      "cell_type": "code",
      "execution_count": 1,
      "metadata": {
        "colab": {
          "base_uri": "https://localhost:8080/"
        },
        "id": "MkmbjmKo8bzz",
        "outputId": "591be65f-a3c2-499c-e4bb-f95584140639"
      },
      "outputs": [
        {
          "output_type": "stream",
          "name": "stdout",
          "text": [
            "Mounted at /content/drive\n"
          ]
        }
      ],
      "source": [
        "from google.colab import drive\n",
        "drive.mount('/content/drive')"
      ]
    },
    {
      "cell_type": "markdown",
      "source": [
        "**Dataset Load**"
      ],
      "metadata": {
        "id": "J3EzmSZVf6mF"
      }
    },
    {
      "cell_type": "code",
      "source": [
        "import pandas as pd\n",
        "df_1 = pd.read_csv('/content/drive/MyDrive/dataset1.csv')\n",
        "df_2 = pd.read_csv('/content/drive/MyDrive/dataset2.csv')\n",
        "df_3 = pd.read_csv('/content/drive/MyDrive/dataset3.csv')\n",
        "df_1.head()"
      ],
      "metadata": {
        "colab": {
          "base_uri": "https://localhost:8080/",
          "height": 226
        },
        "id": "AJh0gXA7zAVL",
        "outputId": "14069b3b-be09-462d-b050-30ba47a9148a"
      },
      "execution_count": 11,
      "outputs": [
        {
          "output_type": "execute_result",
          "data": {
            "text/plain": [
              "        ID  gender  minority  deprived\n",
              "0  1087360       0         0         0\n",
              "1  1088938       0         1         0\n",
              "2  1088953       0         1         0\n",
              "3  1088961       0         1         0\n",
              "4  1089147       0         1         0"
            ],
            "text/html": [
              "\n",
              "  <div id=\"df-9fd72c68-8eb9-4091-973f-c02fef5ccf57\" class=\"colab-df-container\">\n",
              "    <div>\n",
              "<style scoped>\n",
              "    .dataframe tbody tr th:only-of-type {\n",
              "        vertical-align: middle;\n",
              "    }\n",
              "\n",
              "    .dataframe tbody tr th {\n",
              "        vertical-align: top;\n",
              "    }\n",
              "\n",
              "    .dataframe thead th {\n",
              "        text-align: right;\n",
              "    }\n",
              "</style>\n",
              "<table border=\"1\" class=\"dataframe\">\n",
              "  <thead>\n",
              "    <tr style=\"text-align: right;\">\n",
              "      <th></th>\n",
              "      <th>ID</th>\n",
              "      <th>gender</th>\n",
              "      <th>minority</th>\n",
              "      <th>deprived</th>\n",
              "    </tr>\n",
              "  </thead>\n",
              "  <tbody>\n",
              "    <tr>\n",
              "      <th>0</th>\n",
              "      <td>1087360</td>\n",
              "      <td>0</td>\n",
              "      <td>0</td>\n",
              "      <td>0</td>\n",
              "    </tr>\n",
              "    <tr>\n",
              "      <th>1</th>\n",
              "      <td>1088938</td>\n",
              "      <td>0</td>\n",
              "      <td>1</td>\n",
              "      <td>0</td>\n",
              "    </tr>\n",
              "    <tr>\n",
              "      <th>2</th>\n",
              "      <td>1088953</td>\n",
              "      <td>0</td>\n",
              "      <td>1</td>\n",
              "      <td>0</td>\n",
              "    </tr>\n",
              "    <tr>\n",
              "      <th>3</th>\n",
              "      <td>1088961</td>\n",
              "      <td>0</td>\n",
              "      <td>1</td>\n",
              "      <td>0</td>\n",
              "    </tr>\n",
              "    <tr>\n",
              "      <th>4</th>\n",
              "      <td>1089147</td>\n",
              "      <td>0</td>\n",
              "      <td>1</td>\n",
              "      <td>0</td>\n",
              "    </tr>\n",
              "  </tbody>\n",
              "</table>\n",
              "</div>\n",
              "    <div class=\"colab-df-buttons\">\n",
              "\n",
              "  <div class=\"colab-df-container\">\n",
              "    <button class=\"colab-df-convert\" onclick=\"convertToInteractive('df-9fd72c68-8eb9-4091-973f-c02fef5ccf57')\"\n",
              "            title=\"Convert this dataframe to an interactive table.\"\n",
              "            style=\"display:none;\">\n",
              "\n",
              "  <svg xmlns=\"http://www.w3.org/2000/svg\" height=\"24px\" viewBox=\"0 -960 960 960\">\n",
              "    <path d=\"M120-120v-720h720v720H120Zm60-500h600v-160H180v160Zm220 220h160v-160H400v160Zm0 220h160v-160H400v160ZM180-400h160v-160H180v160Zm440 0h160v-160H620v160ZM180-180h160v-160H180v160Zm440 0h160v-160H620v160Z\"/>\n",
              "  </svg>\n",
              "    </button>\n",
              "\n",
              "  <style>\n",
              "    .colab-df-container {\n",
              "      display:flex;\n",
              "      gap: 12px;\n",
              "    }\n",
              "\n",
              "    .colab-df-convert {\n",
              "      background-color: #E8F0FE;\n",
              "      border: none;\n",
              "      border-radius: 50%;\n",
              "      cursor: pointer;\n",
              "      display: none;\n",
              "      fill: #1967D2;\n",
              "      height: 32px;\n",
              "      padding: 0 0 0 0;\n",
              "      width: 32px;\n",
              "    }\n",
              "\n",
              "    .colab-df-convert:hover {\n",
              "      background-color: #E2EBFA;\n",
              "      box-shadow: 0px 1px 2px rgba(60, 64, 67, 0.3), 0px 1px 3px 1px rgba(60, 64, 67, 0.15);\n",
              "      fill: #174EA6;\n",
              "    }\n",
              "\n",
              "    .colab-df-buttons div {\n",
              "      margin-bottom: 4px;\n",
              "    }\n",
              "\n",
              "    [theme=dark] .colab-df-convert {\n",
              "      background-color: #3B4455;\n",
              "      fill: #D2E3FC;\n",
              "    }\n",
              "\n",
              "    [theme=dark] .colab-df-convert:hover {\n",
              "      background-color: #434B5C;\n",
              "      box-shadow: 0px 1px 3px 1px rgba(0, 0, 0, 0.15);\n",
              "      filter: drop-shadow(0px 1px 2px rgba(0, 0, 0, 0.3));\n",
              "      fill: #FFFFFF;\n",
              "    }\n",
              "  </style>\n",
              "\n",
              "    <script>\n",
              "      const buttonEl =\n",
              "        document.querySelector('#df-9fd72c68-8eb9-4091-973f-c02fef5ccf57 button.colab-df-convert');\n",
              "      buttonEl.style.display =\n",
              "        google.colab.kernel.accessAllowed ? 'block' : 'none';\n",
              "\n",
              "      async function convertToInteractive(key) {\n",
              "        const element = document.querySelector('#df-9fd72c68-8eb9-4091-973f-c02fef5ccf57');\n",
              "        const dataTable =\n",
              "          await google.colab.kernel.invokeFunction('convertToInteractive',\n",
              "                                                    [key], {});\n",
              "        if (!dataTable) return;\n",
              "\n",
              "        const docLinkHtml = 'Like what you see? Visit the ' +\n",
              "          '<a target=\"_blank\" href=https://colab.research.google.com/notebooks/data_table.ipynb>data table notebook</a>'\n",
              "          + ' to learn more about interactive tables.';\n",
              "        element.innerHTML = '';\n",
              "        dataTable['output_type'] = 'display_data';\n",
              "        await google.colab.output.renderOutput(dataTable, element);\n",
              "        const docLink = document.createElement('div');\n",
              "        docLink.innerHTML = docLinkHtml;\n",
              "        element.appendChild(docLink);\n",
              "      }\n",
              "    </script>\n",
              "  </div>\n",
              "\n",
              "\n",
              "<div id=\"df-e9d9b48e-8770-4f1a-8ca3-a7551a9a1389\">\n",
              "  <button class=\"colab-df-quickchart\" onclick=\"quickchart('df-e9d9b48e-8770-4f1a-8ca3-a7551a9a1389')\"\n",
              "            title=\"Suggest charts\"\n",
              "            style=\"display:none;\">\n",
              "\n",
              "<svg xmlns=\"http://www.w3.org/2000/svg\" height=\"24px\"viewBox=\"0 0 24 24\"\n",
              "     width=\"24px\">\n",
              "    <g>\n",
              "        <path d=\"M19 3H5c-1.1 0-2 .9-2 2v14c0 1.1.9 2 2 2h14c1.1 0 2-.9 2-2V5c0-1.1-.9-2-2-2zM9 17H7v-7h2v7zm4 0h-2V7h2v10zm4 0h-2v-4h2v4z\"/>\n",
              "    </g>\n",
              "</svg>\n",
              "  </button>\n",
              "\n",
              "<style>\n",
              "  .colab-df-quickchart {\n",
              "      --bg-color: #E8F0FE;\n",
              "      --fill-color: #1967D2;\n",
              "      --hover-bg-color: #E2EBFA;\n",
              "      --hover-fill-color: #174EA6;\n",
              "      --disabled-fill-color: #AAA;\n",
              "      --disabled-bg-color: #DDD;\n",
              "  }\n",
              "\n",
              "  [theme=dark] .colab-df-quickchart {\n",
              "      --bg-color: #3B4455;\n",
              "      --fill-color: #D2E3FC;\n",
              "      --hover-bg-color: #434B5C;\n",
              "      --hover-fill-color: #FFFFFF;\n",
              "      --disabled-bg-color: #3B4455;\n",
              "      --disabled-fill-color: #666;\n",
              "  }\n",
              "\n",
              "  .colab-df-quickchart {\n",
              "    background-color: var(--bg-color);\n",
              "    border: none;\n",
              "    border-radius: 50%;\n",
              "    cursor: pointer;\n",
              "    display: none;\n",
              "    fill: var(--fill-color);\n",
              "    height: 32px;\n",
              "    padding: 0;\n",
              "    width: 32px;\n",
              "  }\n",
              "\n",
              "  .colab-df-quickchart:hover {\n",
              "    background-color: var(--hover-bg-color);\n",
              "    box-shadow: 0 1px 2px rgba(60, 64, 67, 0.3), 0 1px 3px 1px rgba(60, 64, 67, 0.15);\n",
              "    fill: var(--button-hover-fill-color);\n",
              "  }\n",
              "\n",
              "  .colab-df-quickchart-complete:disabled,\n",
              "  .colab-df-quickchart-complete:disabled:hover {\n",
              "    background-color: var(--disabled-bg-color);\n",
              "    fill: var(--disabled-fill-color);\n",
              "    box-shadow: none;\n",
              "  }\n",
              "\n",
              "  .colab-df-spinner {\n",
              "    border: 2px solid var(--fill-color);\n",
              "    border-color: transparent;\n",
              "    border-bottom-color: var(--fill-color);\n",
              "    animation:\n",
              "      spin 1s steps(1) infinite;\n",
              "  }\n",
              "\n",
              "  @keyframes spin {\n",
              "    0% {\n",
              "      border-color: transparent;\n",
              "      border-bottom-color: var(--fill-color);\n",
              "      border-left-color: var(--fill-color);\n",
              "    }\n",
              "    20% {\n",
              "      border-color: transparent;\n",
              "      border-left-color: var(--fill-color);\n",
              "      border-top-color: var(--fill-color);\n",
              "    }\n",
              "    30% {\n",
              "      border-color: transparent;\n",
              "      border-left-color: var(--fill-color);\n",
              "      border-top-color: var(--fill-color);\n",
              "      border-right-color: var(--fill-color);\n",
              "    }\n",
              "    40% {\n",
              "      border-color: transparent;\n",
              "      border-right-color: var(--fill-color);\n",
              "      border-top-color: var(--fill-color);\n",
              "    }\n",
              "    60% {\n",
              "      border-color: transparent;\n",
              "      border-right-color: var(--fill-color);\n",
              "    }\n",
              "    80% {\n",
              "      border-color: transparent;\n",
              "      border-right-color: var(--fill-color);\n",
              "      border-bottom-color: var(--fill-color);\n",
              "    }\n",
              "    90% {\n",
              "      border-color: transparent;\n",
              "      border-bottom-color: var(--fill-color);\n",
              "    }\n",
              "  }\n",
              "</style>\n",
              "\n",
              "  <script>\n",
              "    async function quickchart(key) {\n",
              "      const quickchartButtonEl =\n",
              "        document.querySelector('#' + key + ' button');\n",
              "      quickchartButtonEl.disabled = true;  // To prevent multiple clicks.\n",
              "      quickchartButtonEl.classList.add('colab-df-spinner');\n",
              "      try {\n",
              "        const charts = await google.colab.kernel.invokeFunction(\n",
              "            'suggestCharts', [key], {});\n",
              "      } catch (error) {\n",
              "        console.error('Error during call to suggestCharts:', error);\n",
              "      }\n",
              "      quickchartButtonEl.classList.remove('colab-df-spinner');\n",
              "      quickchartButtonEl.classList.add('colab-df-quickchart-complete');\n",
              "    }\n",
              "    (() => {\n",
              "      let quickchartButtonEl =\n",
              "        document.querySelector('#df-e9d9b48e-8770-4f1a-8ca3-a7551a9a1389 button');\n",
              "      quickchartButtonEl.style.display =\n",
              "        google.colab.kernel.accessAllowed ? 'block' : 'none';\n",
              "    })();\n",
              "  </script>\n",
              "</div>\n",
              "\n",
              "    </div>\n",
              "  </div>\n"
            ],
            "application/vnd.google.colaboratory.intrinsic+json": {
              "type": "dataframe",
              "variable_name": "df_1"
            }
          },
          "metadata": {},
          "execution_count": 11
        }
      ]
    },
    {
      "cell_type": "markdown",
      "source": [
        "**Dastaset Merge By Column**"
      ],
      "metadata": {
        "id": "JhArxkbKX9wa"
      }
    },
    {
      "cell_type": "code",
      "source": [
        "merged_df = df_1.merge(df_2, on='ID', how='inner').merge(df_3, on='ID', how='inner')\n",
        "merged_df.head()"
      ],
      "metadata": {
        "colab": {
          "base_uri": "https://localhost:8080/",
          "height": 285
        },
        "id": "RcyV7XNW_5fd",
        "outputId": "6b03e4c9-85e4-4769-fdd7-b7394d2ce5ec"
      },
      "execution_count": 4,
      "outputs": [
        {
          "output_type": "execute_result",
          "data": {
            "text/plain": [
              "        ID  gender  minority  deprived  C_we  C_wk  G_we  G_wk  S_we  S_wk  \\\n",
              "0  1087192       0         0         0   2.0   0.5   0.5   0.5   1.0   0.5   \n",
              "1  1087195       0         0         0   2.0   1.0   0.0   0.0   3.0   1.0   \n",
              "2  1087205       0         0         0   1.0   0.5   0.0   0.0   0.5   0.5   \n",
              "3  1087214       0         0         0   2.0   1.0   0.5   0.0   2.0   1.0   \n",
              "4  1087222       0         0         0   1.0   3.0   0.0   0.0   2.0   1.0   \n",
              "\n",
              "   ...  Engs  Dealpr  Thcklr  Goodme  Clsep  Conf  Mkmind  Loved  Intthg  \\\n",
              "0  ...     4       4       4       4      5     4       4      5       4   \n",
              "1  ...     3       4       5       3      5     4       4      5       4   \n",
              "2  ...     3       3       3       3      4     3       3      3       4   \n",
              "3  ...     4       4       4       4      3     5       4      5       4   \n",
              "4  ...     2       3       3       4      4     3       5      5       5   \n",
              "\n",
              "   Cheer  \n",
              "0      4  \n",
              "1      4  \n",
              "2      4  \n",
              "3      4  \n",
              "4      5  \n",
              "\n",
              "[5 rows x 26 columns]"
            ],
            "text/html": [
              "\n",
              "  <div id=\"df-c9c881ae-c0f9-469a-b016-205a8e3b3ada\" class=\"colab-df-container\">\n",
              "    <div>\n",
              "<style scoped>\n",
              "    .dataframe tbody tr th:only-of-type {\n",
              "        vertical-align: middle;\n",
              "    }\n",
              "\n",
              "    .dataframe tbody tr th {\n",
              "        vertical-align: top;\n",
              "    }\n",
              "\n",
              "    .dataframe thead th {\n",
              "        text-align: right;\n",
              "    }\n",
              "</style>\n",
              "<table border=\"1\" class=\"dataframe\">\n",
              "  <thead>\n",
              "    <tr style=\"text-align: right;\">\n",
              "      <th></th>\n",
              "      <th>ID</th>\n",
              "      <th>gender</th>\n",
              "      <th>minority</th>\n",
              "      <th>deprived</th>\n",
              "      <th>C_we</th>\n",
              "      <th>C_wk</th>\n",
              "      <th>G_we</th>\n",
              "      <th>G_wk</th>\n",
              "      <th>S_we</th>\n",
              "      <th>S_wk</th>\n",
              "      <th>...</th>\n",
              "      <th>Engs</th>\n",
              "      <th>Dealpr</th>\n",
              "      <th>Thcklr</th>\n",
              "      <th>Goodme</th>\n",
              "      <th>Clsep</th>\n",
              "      <th>Conf</th>\n",
              "      <th>Mkmind</th>\n",
              "      <th>Loved</th>\n",
              "      <th>Intthg</th>\n",
              "      <th>Cheer</th>\n",
              "    </tr>\n",
              "  </thead>\n",
              "  <tbody>\n",
              "    <tr>\n",
              "      <th>0</th>\n",
              "      <td>1087192</td>\n",
              "      <td>0</td>\n",
              "      <td>0</td>\n",
              "      <td>0</td>\n",
              "      <td>2.0</td>\n",
              "      <td>0.5</td>\n",
              "      <td>0.5</td>\n",
              "      <td>0.5</td>\n",
              "      <td>1.0</td>\n",
              "      <td>0.5</td>\n",
              "      <td>...</td>\n",
              "      <td>4</td>\n",
              "      <td>4</td>\n",
              "      <td>4</td>\n",
              "      <td>4</td>\n",
              "      <td>5</td>\n",
              "      <td>4</td>\n",
              "      <td>4</td>\n",
              "      <td>5</td>\n",
              "      <td>4</td>\n",
              "      <td>4</td>\n",
              "    </tr>\n",
              "    <tr>\n",
              "      <th>1</th>\n",
              "      <td>1087195</td>\n",
              "      <td>0</td>\n",
              "      <td>0</td>\n",
              "      <td>0</td>\n",
              "      <td>2.0</td>\n",
              "      <td>1.0</td>\n",
              "      <td>0.0</td>\n",
              "      <td>0.0</td>\n",
              "      <td>3.0</td>\n",
              "      <td>1.0</td>\n",
              "      <td>...</td>\n",
              "      <td>3</td>\n",
              "      <td>4</td>\n",
              "      <td>5</td>\n",
              "      <td>3</td>\n",
              "      <td>5</td>\n",
              "      <td>4</td>\n",
              "      <td>4</td>\n",
              "      <td>5</td>\n",
              "      <td>4</td>\n",
              "      <td>4</td>\n",
              "    </tr>\n",
              "    <tr>\n",
              "      <th>2</th>\n",
              "      <td>1087205</td>\n",
              "      <td>0</td>\n",
              "      <td>0</td>\n",
              "      <td>0</td>\n",
              "      <td>1.0</td>\n",
              "      <td>0.5</td>\n",
              "      <td>0.0</td>\n",
              "      <td>0.0</td>\n",
              "      <td>0.5</td>\n",
              "      <td>0.5</td>\n",
              "      <td>...</td>\n",
              "      <td>3</td>\n",
              "      <td>3</td>\n",
              "      <td>3</td>\n",
              "      <td>3</td>\n",
              "      <td>4</td>\n",
              "      <td>3</td>\n",
              "      <td>3</td>\n",
              "      <td>3</td>\n",
              "      <td>4</td>\n",
              "      <td>4</td>\n",
              "    </tr>\n",
              "    <tr>\n",
              "      <th>3</th>\n",
              "      <td>1087214</td>\n",
              "      <td>0</td>\n",
              "      <td>0</td>\n",
              "      <td>0</td>\n",
              "      <td>2.0</td>\n",
              "      <td>1.0</td>\n",
              "      <td>0.5</td>\n",
              "      <td>0.0</td>\n",
              "      <td>2.0</td>\n",
              "      <td>1.0</td>\n",
              "      <td>...</td>\n",
              "      <td>4</td>\n",
              "      <td>4</td>\n",
              "      <td>4</td>\n",
              "      <td>4</td>\n",
              "      <td>3</td>\n",
              "      <td>5</td>\n",
              "      <td>4</td>\n",
              "      <td>5</td>\n",
              "      <td>4</td>\n",
              "      <td>4</td>\n",
              "    </tr>\n",
              "    <tr>\n",
              "      <th>4</th>\n",
              "      <td>1087222</td>\n",
              "      <td>0</td>\n",
              "      <td>0</td>\n",
              "      <td>0</td>\n",
              "      <td>1.0</td>\n",
              "      <td>3.0</td>\n",
              "      <td>0.0</td>\n",
              "      <td>0.0</td>\n",
              "      <td>2.0</td>\n",
              "      <td>1.0</td>\n",
              "      <td>...</td>\n",
              "      <td>2</td>\n",
              "      <td>3</td>\n",
              "      <td>3</td>\n",
              "      <td>4</td>\n",
              "      <td>4</td>\n",
              "      <td>3</td>\n",
              "      <td>5</td>\n",
              "      <td>5</td>\n",
              "      <td>5</td>\n",
              "      <td>5</td>\n",
              "    </tr>\n",
              "  </tbody>\n",
              "</table>\n",
              "<p>5 rows × 26 columns</p>\n",
              "</div>\n",
              "    <div class=\"colab-df-buttons\">\n",
              "\n",
              "  <div class=\"colab-df-container\">\n",
              "    <button class=\"colab-df-convert\" onclick=\"convertToInteractive('df-c9c881ae-c0f9-469a-b016-205a8e3b3ada')\"\n",
              "            title=\"Convert this dataframe to an interactive table.\"\n",
              "            style=\"display:none;\">\n",
              "\n",
              "  <svg xmlns=\"http://www.w3.org/2000/svg\" height=\"24px\" viewBox=\"0 -960 960 960\">\n",
              "    <path d=\"M120-120v-720h720v720H120Zm60-500h600v-160H180v160Zm220 220h160v-160H400v160Zm0 220h160v-160H400v160ZM180-400h160v-160H180v160Zm440 0h160v-160H620v160ZM180-180h160v-160H180v160Zm440 0h160v-160H620v160Z\"/>\n",
              "  </svg>\n",
              "    </button>\n",
              "\n",
              "  <style>\n",
              "    .colab-df-container {\n",
              "      display:flex;\n",
              "      gap: 12px;\n",
              "    }\n",
              "\n",
              "    .colab-df-convert {\n",
              "      background-color: #E8F0FE;\n",
              "      border: none;\n",
              "      border-radius: 50%;\n",
              "      cursor: pointer;\n",
              "      display: none;\n",
              "      fill: #1967D2;\n",
              "      height: 32px;\n",
              "      padding: 0 0 0 0;\n",
              "      width: 32px;\n",
              "    }\n",
              "\n",
              "    .colab-df-convert:hover {\n",
              "      background-color: #E2EBFA;\n",
              "      box-shadow: 0px 1px 2px rgba(60, 64, 67, 0.3), 0px 1px 3px 1px rgba(60, 64, 67, 0.15);\n",
              "      fill: #174EA6;\n",
              "    }\n",
              "\n",
              "    .colab-df-buttons div {\n",
              "      margin-bottom: 4px;\n",
              "    }\n",
              "\n",
              "    [theme=dark] .colab-df-convert {\n",
              "      background-color: #3B4455;\n",
              "      fill: #D2E3FC;\n",
              "    }\n",
              "\n",
              "    [theme=dark] .colab-df-convert:hover {\n",
              "      background-color: #434B5C;\n",
              "      box-shadow: 0px 1px 3px 1px rgba(0, 0, 0, 0.15);\n",
              "      filter: drop-shadow(0px 1px 2px rgba(0, 0, 0, 0.3));\n",
              "      fill: #FFFFFF;\n",
              "    }\n",
              "  </style>\n",
              "\n",
              "    <script>\n",
              "      const buttonEl =\n",
              "        document.querySelector('#df-c9c881ae-c0f9-469a-b016-205a8e3b3ada button.colab-df-convert');\n",
              "      buttonEl.style.display =\n",
              "        google.colab.kernel.accessAllowed ? 'block' : 'none';\n",
              "\n",
              "      async function convertToInteractive(key) {\n",
              "        const element = document.querySelector('#df-c9c881ae-c0f9-469a-b016-205a8e3b3ada');\n",
              "        const dataTable =\n",
              "          await google.colab.kernel.invokeFunction('convertToInteractive',\n",
              "                                                    [key], {});\n",
              "        if (!dataTable) return;\n",
              "\n",
              "        const docLinkHtml = 'Like what you see? Visit the ' +\n",
              "          '<a target=\"_blank\" href=https://colab.research.google.com/notebooks/data_table.ipynb>data table notebook</a>'\n",
              "          + ' to learn more about interactive tables.';\n",
              "        element.innerHTML = '';\n",
              "        dataTable['output_type'] = 'display_data';\n",
              "        await google.colab.output.renderOutput(dataTable, element);\n",
              "        const docLink = document.createElement('div');\n",
              "        docLink.innerHTML = docLinkHtml;\n",
              "        element.appendChild(docLink);\n",
              "      }\n",
              "    </script>\n",
              "  </div>\n",
              "\n",
              "\n",
              "<div id=\"df-a5eb9cb7-4798-4d59-881b-2f50f35c0993\">\n",
              "  <button class=\"colab-df-quickchart\" onclick=\"quickchart('df-a5eb9cb7-4798-4d59-881b-2f50f35c0993')\"\n",
              "            title=\"Suggest charts\"\n",
              "            style=\"display:none;\">\n",
              "\n",
              "<svg xmlns=\"http://www.w3.org/2000/svg\" height=\"24px\"viewBox=\"0 0 24 24\"\n",
              "     width=\"24px\">\n",
              "    <g>\n",
              "        <path d=\"M19 3H5c-1.1 0-2 .9-2 2v14c0 1.1.9 2 2 2h14c1.1 0 2-.9 2-2V5c0-1.1-.9-2-2-2zM9 17H7v-7h2v7zm4 0h-2V7h2v10zm4 0h-2v-4h2v4z\"/>\n",
              "    </g>\n",
              "</svg>\n",
              "  </button>\n",
              "\n",
              "<style>\n",
              "  .colab-df-quickchart {\n",
              "      --bg-color: #E8F0FE;\n",
              "      --fill-color: #1967D2;\n",
              "      --hover-bg-color: #E2EBFA;\n",
              "      --hover-fill-color: #174EA6;\n",
              "      --disabled-fill-color: #AAA;\n",
              "      --disabled-bg-color: #DDD;\n",
              "  }\n",
              "\n",
              "  [theme=dark] .colab-df-quickchart {\n",
              "      --bg-color: #3B4455;\n",
              "      --fill-color: #D2E3FC;\n",
              "      --hover-bg-color: #434B5C;\n",
              "      --hover-fill-color: #FFFFFF;\n",
              "      --disabled-bg-color: #3B4455;\n",
              "      --disabled-fill-color: #666;\n",
              "  }\n",
              "\n",
              "  .colab-df-quickchart {\n",
              "    background-color: var(--bg-color);\n",
              "    border: none;\n",
              "    border-radius: 50%;\n",
              "    cursor: pointer;\n",
              "    display: none;\n",
              "    fill: var(--fill-color);\n",
              "    height: 32px;\n",
              "    padding: 0;\n",
              "    width: 32px;\n",
              "  }\n",
              "\n",
              "  .colab-df-quickchart:hover {\n",
              "    background-color: var(--hover-bg-color);\n",
              "    box-shadow: 0 1px 2px rgba(60, 64, 67, 0.3), 0 1px 3px 1px rgba(60, 64, 67, 0.15);\n",
              "    fill: var(--button-hover-fill-color);\n",
              "  }\n",
              "\n",
              "  .colab-df-quickchart-complete:disabled,\n",
              "  .colab-df-quickchart-complete:disabled:hover {\n",
              "    background-color: var(--disabled-bg-color);\n",
              "    fill: var(--disabled-fill-color);\n",
              "    box-shadow: none;\n",
              "  }\n",
              "\n",
              "  .colab-df-spinner {\n",
              "    border: 2px solid var(--fill-color);\n",
              "    border-color: transparent;\n",
              "    border-bottom-color: var(--fill-color);\n",
              "    animation:\n",
              "      spin 1s steps(1) infinite;\n",
              "  }\n",
              "\n",
              "  @keyframes spin {\n",
              "    0% {\n",
              "      border-color: transparent;\n",
              "      border-bottom-color: var(--fill-color);\n",
              "      border-left-color: var(--fill-color);\n",
              "    }\n",
              "    20% {\n",
              "      border-color: transparent;\n",
              "      border-left-color: var(--fill-color);\n",
              "      border-top-color: var(--fill-color);\n",
              "    }\n",
              "    30% {\n",
              "      border-color: transparent;\n",
              "      border-left-color: var(--fill-color);\n",
              "      border-top-color: var(--fill-color);\n",
              "      border-right-color: var(--fill-color);\n",
              "    }\n",
              "    40% {\n",
              "      border-color: transparent;\n",
              "      border-right-color: var(--fill-color);\n",
              "      border-top-color: var(--fill-color);\n",
              "    }\n",
              "    60% {\n",
              "      border-color: transparent;\n",
              "      border-right-color: var(--fill-color);\n",
              "    }\n",
              "    80% {\n",
              "      border-color: transparent;\n",
              "      border-right-color: var(--fill-color);\n",
              "      border-bottom-color: var(--fill-color);\n",
              "    }\n",
              "    90% {\n",
              "      border-color: transparent;\n",
              "      border-bottom-color: var(--fill-color);\n",
              "    }\n",
              "  }\n",
              "</style>\n",
              "\n",
              "  <script>\n",
              "    async function quickchart(key) {\n",
              "      const quickchartButtonEl =\n",
              "        document.querySelector('#' + key + ' button');\n",
              "      quickchartButtonEl.disabled = true;  // To prevent multiple clicks.\n",
              "      quickchartButtonEl.classList.add('colab-df-spinner');\n",
              "      try {\n",
              "        const charts = await google.colab.kernel.invokeFunction(\n",
              "            'suggestCharts', [key], {});\n",
              "      } catch (error) {\n",
              "        console.error('Error during call to suggestCharts:', error);\n",
              "      }\n",
              "      quickchartButtonEl.classList.remove('colab-df-spinner');\n",
              "      quickchartButtonEl.classList.add('colab-df-quickchart-complete');\n",
              "    }\n",
              "    (() => {\n",
              "      let quickchartButtonEl =\n",
              "        document.querySelector('#df-a5eb9cb7-4798-4d59-881b-2f50f35c0993 button');\n",
              "      quickchartButtonEl.style.display =\n",
              "        google.colab.kernel.accessAllowed ? 'block' : 'none';\n",
              "    })();\n",
              "  </script>\n",
              "</div>\n",
              "\n",
              "    </div>\n",
              "  </div>\n"
            ],
            "application/vnd.google.colaboratory.intrinsic+json": {
              "type": "dataframe",
              "variable_name": "merged_df"
            }
          },
          "metadata": {},
          "execution_count": 4
        },
        {
          "output_type": "stream",
          "name": "stdout",
          "text": [
            "Warning: Total number of columns (26) exceeds max_columns (20) limiting to first (20) columns.\n"
          ]
        }
      ]
    },
    {
      "cell_type": "markdown",
      "source": [
        "# Descriptive Statistics"
      ],
      "metadata": {
        "id": "hOyMnSFkkTfU"
      }
    },
    {
      "cell_type": "markdown",
      "source": [
        "**min,max,mean,mode,median**"
      ],
      "metadata": {
        "id": "fdbtwtCqhwUm"
      }
    },
    {
      "cell_type": "code",
      "source": [
        "summary_stats = merged_df.agg({\n",
        "    'C_we': ['min', 'max', 'mean', 'median'],\n",
        "    'C_wk': ['min', 'max', 'mean', 'median'],\n",
        "    'G_we': ['min', 'max', 'mean', 'median'],\n",
        "    'G_wk': ['min', 'max', 'mean', 'median'],\n",
        "    'S_we': ['min', 'max', 'mean', 'median'],\n",
        "    'S_wk': ['min', 'max', 'mean', 'median'],\n",
        "    'T_we': ['min', 'max', 'mean', 'median'],\n",
        "    'T_wk': ['min', 'max', 'mean', 'median']\n",
        "})\n",
        "\n",
        "print(summary_stats)\n"
      ],
      "metadata": {
        "colab": {
          "base_uri": "https://localhost:8080/"
        },
        "id": "x794jCFBHvCU",
        "outputId": "404df89a-e62d-4f03-b1f0-7740d93e46dc"
      },
      "execution_count": null,
      "outputs": [
        {
          "output_type": "stream",
          "name": "stdout",
          "text": [
            "            C_we      C_wk      G_we      G_wk      S_we      S_wk      T_we  \\\n",
            "min     0.000000  0.000000  0.000000  0.000000  0.000000  0.000000  0.000000   \n",
            "max     7.000000  7.000000  7.000000  7.000000  7.000000  7.000000  7.000000   \n",
            "mean    2.198483  1.768092  1.726332  0.997828  3.504085  2.889604  3.647439   \n",
            "median  2.000000  1.000000  0.500000  0.000000  3.000000  2.000000  4.000000   \n",
            "\n",
            "            T_wk  \n",
            "min     0.000000  \n",
            "max     7.000000  \n",
            "mean    2.551644  \n",
            "median  2.000000  \n"
          ]
        }
      ]
    },
    {
      "cell_type": "markdown",
      "source": [
        "**Standard Deviation of Screen Time across demographic groups**\n"
      ],
      "metadata": {
        "id": "W4iRVaN_jP_A"
      }
    },
    {
      "cell_type": "code",
      "source": [
        "screen_time_stats = merged_df.groupby(['gender', 'deprived', 'minority'])[['C_we', 'C_wk', 'G_we', 'G_wk', 'S_we', 'S_wk', 'T_we', 'T_wk']].std()\n",
        "\n",
        "print(screen_time_stats)\n"
      ],
      "metadata": {
        "colab": {
          "base_uri": "https://localhost:8080/"
        },
        "id": "C8tFb0P3qt8S",
        "outputId": "6c270f41-64ae-46ca-cf19-e07cc7b078b6"
      },
      "execution_count": 19,
      "outputs": [
        {
          "output_type": "stream",
          "name": "stdout",
          "text": [
            "                              C_we      C_wk      G_we      G_wk      S_we  \\\n",
            "gender deprived minority                                                     \n",
            "0      0        0         2.011646  1.672775  1.203499  0.792801  2.358709   \n",
            "                1         2.095541  1.747351  1.222707  0.796268  2.385748   \n",
            "       1        0         2.234063  1.908014  1.492018  1.041038  2.428734   \n",
            "                1         2.166558  1.840636  1.298080  0.877008  2.477313   \n",
            "1      0        0         1.926988  1.549932  2.203723  1.678786  2.279462   \n",
            "                1         1.943085  1.626209  2.070533  1.508934  2.327268   \n",
            "       1        0         2.172858  1.806078  2.354243  1.904277  2.533401   \n",
            "                1         2.021728  1.684345  2.172283  1.583325  2.419814   \n",
            "\n",
            "                              S_wk      T_we      T_wk  \n",
            "gender deprived minority                                \n",
            "0      0        0         2.255649  1.852488  1.630878  \n",
            "                1         2.277294  1.894974  1.674068  \n",
            "       1        0         2.390541  2.028997  1.803077  \n",
            "                1         2.377807  2.004042  1.825341  \n",
            "1      0        0         2.033045  1.866561  1.551948  \n",
            "                1         2.072350  1.903622  1.587981  \n",
            "       1        0         2.351852  2.056438  1.749341  \n",
            "                1         2.232462  1.961269  1.712985  \n"
          ]
        }
      ]
    },
    {
      "cell_type": "markdown",
      "source": [
        "**Standard Deviation of well-being scores across demographic groups**\n",
        "\n",
        "\n"
      ],
      "metadata": {
        "id": "oLB_3xx3joSE"
      }
    },
    {
      "cell_type": "code",
      "source": [
        "wellbeing_stats = merged_df.groupby(['gender', 'deprived', 'minority'])[['Optm', 'Usef', 'Relx', 'Intp', 'Engs', 'Dealpr', 'Thcklr', 'Goodme', 'Clsep', 'Conf', 'Mkmind', 'Loved', 'Intthg', 'Cheer']].std()\n",
        "\n",
        "print(wellbeing_stats)\n"
      ],
      "metadata": {
        "colab": {
          "base_uri": "https://localhost:8080/"
        },
        "id": "x0kXCgQgCUr7",
        "outputId": "5ed06d82-1c5b-4166-9a8d-e930737b1699"
      },
      "execution_count": 17,
      "outputs": [
        {
          "output_type": "stream",
          "name": "stdout",
          "text": [
            "                              Optm      Usef      Relx      Intp      Engs  \\\n",
            "gender deprived minority                                                     \n",
            "0      0        0         0.977129  0.923077  0.955007  0.974474  1.039939   \n",
            "                1         1.006639  0.956206  0.977681  1.021460  1.049820   \n",
            "       1        0         1.033323  0.974235  0.993316  1.050997  1.085594   \n",
            "                1         1.034105  0.982614  1.001181  1.084696  1.068685   \n",
            "1      0        0         0.951329  0.891703  0.947694  0.950458  1.000273   \n",
            "                1         0.976057  0.930589  0.986431  1.011409  1.009537   \n",
            "       1        0         1.007844  0.951919  0.988643  1.020947  1.042950   \n",
            "                1         1.028806  0.969400  1.013723  1.088604  1.041941   \n",
            "\n",
            "                            Dealpr    Thcklr    Goodme     Clsep      Conf  \\\n",
            "gender deprived minority                                                     \n",
            "0      0        0         1.040889  1.018112  1.088187  1.025023  1.090303   \n",
            "                1         1.053595  1.025860  1.092958  1.071704  1.098426   \n",
            "       1        0         1.100152  1.070236  1.142394  1.088383  1.157297   \n",
            "                1         1.065778  1.053896  1.145170  1.094555  1.133329   \n",
            "1      0        0         0.959517  0.918375  0.973638  0.958172  0.973006   \n",
            "                1         0.986164  0.945626  0.981054  0.987073  0.966560   \n",
            "       1        0         1.051154  0.981630  1.032610  1.012823  1.031519   \n",
            "                1         1.053507  0.971962  1.032793  1.041551  1.013214   \n",
            "\n",
            "                            Mkmind     Loved    Intthg     Cheer  \n",
            "gender deprived minority                                          \n",
            "0      0        0         0.996724  1.069276  1.068024  1.001679  \n",
            "                1         1.025097  1.120554  1.087524  1.033384  \n",
            "       1        0         1.043426  1.124356  1.122806  1.067273  \n",
            "                1         1.021882  1.151149  1.119475  1.074522  \n",
            "1      0        0         0.861045  0.989516  1.003425  0.916720  \n",
            "                1         0.901937  1.035586  1.022071  0.950730  \n",
            "       1        0         0.914217  1.027713  1.041552  0.978613  \n",
            "                1         0.933547  1.110014  1.058334  1.006214  \n"
          ]
        }
      ]
    },
    {
      "cell_type": "markdown",
      "source": [
        "**Barplot for gender vs Screen Time**\n"
      ],
      "metadata": {
        "id": "DKZRtIanh3qC"
      }
    },
    {
      "cell_type": "code",
      "source": [
        "\n",
        "import matplotlib.pyplot as plt\n",
        "import seaborn as sns\n",
        "\n",
        "melted_df = merged_df.melt(id_vars=['gender'],\n",
        "                            value_vars=['C_we', 'C_wk', 'G_we', 'G_wk', 'S_we', 'S_wk', 'T_we', 'T_wk'],\n",
        "                            var_name='Category',\n",
        "                            value_name='Value')\n",
        "\n",
        "\n",
        "plt.figure(figsize=(12, 6))\n",
        "sns.barplot(x='Category', y='Value', hue='gender', data=melted_df)\n",
        "plt.title('Gender vs. Screentime')\n",
        "plt.xlabel('Screentime')\n",
        "plt.ylabel('Hours')\n",
        "plt.xticks(rotation=45)\n",
        "plt.show()\n"
      ],
      "metadata": {
        "colab": {
          "base_uri": "https://localhost:8080/",
          "height": 607
        },
        "id": "6AepEwCrBJS7",
        "outputId": "baf5e11b-4824-427a-a812-b54bad597f6f"
      },
      "execution_count": 14,
      "outputs": [
        {
          "output_type": "display_data",
          "data": {
            "text/plain": [
              "<Figure size 1200x600 with 1 Axes>"
            ],
            "image/png": "[encoded data removed]"
          },
          "metadata": {}
        }
      ]
    },
    {
      "cell_type": "markdown",
      "source": [
        "**Gender vs Wellbeing**"
      ],
      "metadata": {
        "id": "Q_bcboG2iIuc"
      }
    },
    {
      "cell_type": "code",
      "source": [
        "import matplotlib.pyplot as plt\n",
        "\n",
        "\n",
        "melted_df = merged_df.melt(id_vars=['gender'],\n",
        "                            value_vars=['Optm', 'Usef', 'Relx', 'Intp', 'Engs', 'Dealpr', 'Thcklr', 'Goodme', 'Clsep', 'Conf', 'Mkmind', 'Loved', 'Intthg', 'Cheer'],\n",
        "                            var_name='Category',\n",
        "                            value_name='Value')\n",
        "\n",
        "\n",
        "plt.figure(figsize=(12, 6))\n",
        "sns.barplot(x='Category', y='Value', hue='gender', data=melted_df)\n",
        "plt.title('Gender vs. Wellbeing')\n",
        "plt.xlabel('Wellbeing')\n",
        "plt.ylabel('Indicator')\n",
        "plt.xticks(rotation=45)\n",
        "plt.show()\n"
      ],
      "metadata": {
        "colab": {
          "base_uri": "https://localhost:8080/",
          "height": 621
        },
        "id": "OgaAGJPzEOh6",
        "outputId": "b05304cd-aa90-4b0f-eb9c-b14a08f57d0b"
      },
      "execution_count": null,
      "outputs": [
        {
          "output_type": "display_data",
          "data": {
            "text/plain": [
              "<Figure size 1200x600 with 1 Axes>"
            ],
            "image/png": "[encoded data removed]"
          },
          "metadata": {}
        }
      ]
    },
    {
      "cell_type": "markdown",
      "source": [
        "**Barplot deprived vs Wellbeing**"
      ],
      "metadata": {
        "id": "6C331t4CiXtR"
      }
    },
    {
      "cell_type": "code",
      "source": [
        "import matplotlib.pyplot as plt\n",
        "import seaborn as sns\n",
        "\n",
        "\n",
        "\n",
        "melted_df = merged_df.melt(id_vars=['deprived'],\n",
        "                            value_vars=['Optm', 'Usef', 'Relx', 'Intp', 'Engs', 'Dealpr', 'Thcklr', 'Goodme', 'Clsep', 'Conf', 'Mkmind', 'Loved', 'Intthg', 'Cheer'],\n",
        "                            var_name='Category',\n",
        "                            value_name='Value')\n",
        "\n",
        "plt.figure(figsize=(12, 6))\n",
        "sns.barplot(x='Category', y='Value', hue='deprived', data=melted_df)\n",
        "plt.title('Deprived vs. Wellbeing')\n",
        "plt.xlabel('Wellbeing')\n",
        "plt.ylabel('Value')\n",
        "plt.xticks(rotation=45)\n",
        "plt.show()\n"
      ],
      "metadata": {
        "colab": {
          "base_uri": "https://localhost:8080/",
          "height": 621
        },
        "id": "hGfZygs5BqSb",
        "outputId": "1b056099-37f2-4484-bdff-ba83a8277506"
      },
      "execution_count": 15,
      "outputs": [
        {
          "output_type": "display_data",
          "data": {
            "text/plain": [
              "<Figure size 1200x600 with 1 Axes>"
            ],
            "image/png": "[encoded data removed]"
          },
          "metadata": {}
        }
      ]
    },
    {
      "cell_type": "markdown",
      "source": [
        "**Barplot Minority vs Wellbeing**"
      ],
      "metadata": {
        "id": "jlJoGYzPipfU"
      }
    },
    {
      "cell_type": "code",
      "source": [
        "import matplotlib.pyplot as plt\n",
        "\n",
        "melted_df = merged_df.melt(id_vars=['minority'],\n",
        "                            value_vars=['Optm', 'Usef', 'Relx', 'Intp', 'Engs', 'Dealpr', 'Thcklr', 'Goodme', 'Clsep', 'Conf', 'Mkmind', 'Loved', 'Intthg', 'Cheer'],\n",
        "                            var_name='Category',\n",
        "                            value_name='Value')\n",
        "\n",
        "# Create the bar plot\n",
        "plt.figure(figsize=(12, 6))\n",
        "sns.barplot(x='Category', y='Value', hue='minority', data=melted_df)\n",
        "plt.title('Minority vs. Wellbeing')\n",
        "plt.xlabel('Wellbeing')\n",
        "plt.ylabel('Indicator')\n",
        "plt.xticks(rotation=45)\n",
        "plt.show()\n"
      ],
      "metadata": {
        "colab": {
          "base_uri": "https://localhost:8080/",
          "height": 621
        },
        "id": "I8Ya42NODZwF",
        "outputId": "a0ff10af-4137-471e-ffe1-ad532b374532"
      },
      "execution_count": null,
      "outputs": [
        {
          "output_type": "display_data",
          "data": {
            "text/plain": [
              "<Figure size 1200x600 with 1 Axes>"
            ],
            "image/png": "[encoded data removed]"
          },
          "metadata": {}
        }
      ]
    },
    {
      "cell_type": "markdown",
      "source": [
        "# Inferential Statistics"
      ],
      "metadata": {
        "id": "IEFcTNhDkg1q"
      }
    },
    {
      "cell_type": "markdown",
      "source": [
        "**Average Well-being VS Screen Time**"
      ],
      "metadata": {
        "id": "qBCIqZs2xRiz"
      }
    },
    {
      "cell_type": "code",
      "source": [
        "import pandas as pd\n",
        "import matplotlib.pyplot as plt\n",
        "import seaborn as sns\n",
        "\n",
        "merged_df['total_screen_time'] = merged_df[['C_we', 'C_wk', 'G_we', 'G_wk', 'S_we', 'S_wk', 'T_we', 'T_wk']].sum(axis=1)\n",
        "\n",
        "wellbeing_columns = ['Optm', 'Usef', 'Relx', 'Intp', 'Engs', 'Dealpr', 'Thcklr', 'Goodme', 'Clsep', 'Conf', 'Mkmind', 'Loved', 'Intthg', 'Cheer']\n",
        "merged_df['avg_wellbeing'] = merged_df[wellbeing_columns].mean(axis=1)\n",
        "\n",
        "merged_df['screen_time_category'] = pd.qcut(merged_df['total_screen_time'], 3, labels=['Low', 'Medium', 'High'])\n",
        "\n",
        "avg_wellbeing_by_screen_time = merged_df.groupby('screen_time_category')['avg_wellbeing'].mean()\n",
        "\n",
        "plt.figure(figsize=(8, 6))\n",
        "sns.barplot(x=avg_wellbeing_by_screen_time.index, y=avg_wellbeing_by_screen_time.values, palette='coolwarm')\n",
        "plt.title('Average Well-Being vs Screen Time')\n",
        "plt.xlabel('Screen Time')\n",
        "plt.ylabel('Average Well-Being Score')\n",
        "plt.show()\n",
        "\n"
      ],
      "metadata": {
        "colab": {
          "base_uri": "https://localhost:8080/",
          "height": 706
        },
        "id": "k5LlW3EDq1f6",
        "outputId": "5e87e0dc-ab14-4262-ed52-8c0769eafcce"
      },
      "execution_count": null,
      "outputs": [
        {
          "output_type": "stream",
          "name": "stderr",
          "text": [
            "<ipython-input-32-308f502ff384>:18: FutureWarning: The default of observed=False is deprecated and will be changed to True in a future version of pandas. Pass observed=False to retain current behavior or observed=True to adopt the future default and silence this warning.\n",
            "  avg_wellbeing_by_screen_time = merged_df.groupby('screen_time_category')['avg_wellbeing'].mean()\n",
            "<ipython-input-32-308f502ff384>:22: FutureWarning: \n",
            "\n",
            "Passing `palette` without assigning `hue` is deprecated and will be removed in v0.14.0. Assign the `x` variable to `hue` and set `legend=False` for the same effect.\n",
            "\n",
            "  sns.barplot(x=avg_wellbeing_by_screen_time.index, y=avg_wellbeing_by_screen_time.values, palette='coolwarm')\n"
          ]
        },
        {
          "output_type": "display_data",
          "data": {
            "text/plain": [
              "<Figure size 800x600 with 1 Axes>"
            ],
            "image/png": "[encoded data removed]"
          },
          "metadata": {}
        }
      ]
    },
    {
      "cell_type": "markdown",
      "source": [
        "This bar chart shows how average well-being scores change across different screen time categories (Low, Medium, High).\n",
        "\n",
        "Positive Trend: The average well-being score is higher for the \"Low\" screen time category and decreases for \"Medium\" and \"High,\" this suggests that higher screen time is associated with lower well-being."
      ],
      "metadata": {
        "id": "hqRCjjj68h34"
      }
    },
    {
      "cell_type": "markdown",
      "source": [
        "**T Statistics**"
      ],
      "metadata": {
        "id": "VOiqXxI4C3I-"
      }
    },
    {
      "cell_type": "code",
      "source": [
        "import pandas as pd\n",
        "import numpy as np\n",
        "from scipy import stats\n",
        "\n",
        "# Assuming 'merged_data' is the DataFrame with the screen time and well-being data\n",
        "\n",
        "# 1. Calculate total screen time for each respondent\n",
        "merged_df['total_screen_time'] = merged_df[['C_we', 'C_wk', 'G_we', 'G_wk', 'S_we', 'S_wk', 'T_we', 'T_wk']].sum(axis=1)\n",
        "\n",
        "# 2. Classify respondents as high or low screen time users\n",
        "# We'll use the median screen time as a threshold\n",
        "median_screen_time = merged_df['total_screen_time'].median()\n",
        "merged_df['screen_time_group'] = np.where(merged_df['total_screen_time'] > median_screen_time, 'High', 'Low')\n",
        "\n",
        "# 3. Extract well-being scores for the two groups\n",
        "high_screen_time = merged_df[merged_df['screen_time_group'] == 'High']['avg_wellbeing']\n",
        "low_screen_time = merged_df[merged_df['screen_time_group'] == 'Low']['avg_wellbeing']\n",
        "\n",
        "# 4. Perform an independent t-test\n",
        "t_stat, p_value = stats.ttest_ind(high_screen_time, low_screen_time, equal_var=False)\n",
        "\n",
        "# Display the results\n",
        "print(f'T-statistic: {t_stat}')\n",
        "print(f'P-value: {p_value}')\n",
        "\n",
        "# Check if the p-value is significant at the 0.05 level\n",
        "if p_value < 0.05:\n",
        "    print(\"There is a statistically significant difference in well-being scores between high and low screen time users.\")\n",
        "else:\n",
        "    print(\"There is no statistically significant difference in well-being scores between high and low screen time users.\")\n"
      ],
      "metadata": {
        "colab": {
          "base_uri": "https://localhost:8080/"
        },
        "id": "BSSsptL6zqXx",
        "outputId": "5465230f-4210-49a9-d270-e35423308feb"
      },
      "execution_count": null,
      "outputs": [
        {
          "output_type": "stream",
          "name": "stdout",
          "text": [
            "T-statistic: -33.47179179074962\n",
            "P-value: 3.1124793601977025e-244\n",
            "There is a statistically significant difference in well-being scores between high and low screen time users.\n"
          ]
        }
      ]
    },
    {
      "cell_type": "markdown",
      "source": [
        "Here the p-value is less than 0.05, it means there is a statistically significant difference in well-being between high and low screen time users. This suggests that screen time may influence well-being."
      ],
      "metadata": {
        "id": "x-yDmgUS79ro"
      }
    },
    {
      "cell_type": "markdown",
      "source": [
        "**Chi Square Satistics**"
      ],
      "metadata": {
        "id": "3w4Oc7Aqkz-j"
      }
    },
    {
      "cell_type": "code",
      "source": [
        "import pandas as pd\n",
        "merged_df['total_screen_time'] = merged_df[['C_we', 'C_wk', 'G_we', 'G_wk', 'S_we', 'S_wk', 'T_we', 'T_wk']].sum(axis=1)\n",
        "\n",
        "wellbeing_columns = ['Optm', 'Usef', 'Relx', 'Intp', 'Engs', 'Dealpr', 'Thcklr', 'Goodme', 'Clsep', 'Conf', 'Mkmind', 'Loved', 'Intthg', 'Cheer']\n",
        "merged_df['avg_wellbeing'] = merged_df[wellbeing_columns].mean(axis=1)\n",
        "\n",
        "merged_df['screen_time_category'] = pd.cut(merged_df['total_screen_time'], bins=[0, merged_df['total_screen_time'].median(), merged_df['total_screen_time'].max()], labels=['Low', 'High'])\n",
        "merged_df['wellbeing_category'] = pd.cut(merged_df['avg_wellbeing'], bins=[0, merged_df['avg_wellbeing'].median(), merged_df['avg_wellbeing'].max()], labels=['Low', 'High'])\n",
        "\n",
        "contingency_table = pd.crosstab(merged_df['screen_time_category'], merged_df['wellbeing_category'])\n",
        "\n",
        "chi2, p_value, dof, expected = stats.chi2_contingency(contingency_table)\n",
        "\n",
        "print(f'Chi-square statistic: {chi2}')\n",
        "print(f'P-value: {p_value}')\n",
        "\n",
        "if p_value < 0.05:\n",
        "    print(\"There is a statistically significant association between screen time and well-being.\")\n",
        "else:\n",
        "    print(\"There is no statistically significant association between screen time and well-being.\")\n"
      ],
      "metadata": {
        "colab": {
          "base_uri": "https://localhost:8080/"
        },
        "id": "PkAG0J8H63v7",
        "outputId": "a70bdd66-76e3-47e2-872d-4ae21b91d97f"
      },
      "execution_count": null,
      "outputs": [
        {
          "output_type": "stream",
          "name": "stdout",
          "text": [
            "Chi-square statistic: 755.0299678945648\n",
            "P-value: 3.233778678141073e-166\n",
            "There is a statistically significant association between screen time and well-being.\n"
          ]
        }
      ]
    }
  ]
}