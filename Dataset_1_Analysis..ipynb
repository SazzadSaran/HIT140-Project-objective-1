{
 "cells": [
  {
   "cell_type": "markdown",
   "metadata": {
    "id": "uQ6wc2HE0pke"
   },
   "source": [
    "# **Dataset 1 Notebook**\n",
    "\n"
   ]
  },
  {
   "cell_type": "markdown",
   "metadata": {
    "id": "tQgxLRrvjiJb"
   },
   "source": [
    "## Context\n"
   ]
  },
  {
   "cell_type": "markdown",
   "metadata": {},
   "source": [
    "The provided dataset1 contains information on individuals, including their gender, minority status, and whether they live in deprived localities. We will run descriptive and inferential statistical analysis on this dataset."
   ]
  },
  {
   "cell_type": "markdown",
   "metadata": {
    "id": "KFVpE17Ahezu"
   },
   "source": [
    "### 0. Import Packages"
   ]
  },
  {
   "cell_type": "markdown",
   "metadata": {},
   "source": [
    "**[0.1]** Import the necessary packages"
   ]
  },
  {
   "cell_type": "code",
   "execution_count": 3,
   "metadata": {
    "id": "X3l_Iffyhezx"
   },
   "outputs": [],
   "source": [
    "import numpy as np\n",
    "import pandas as pd\n",
    "import seaborn as sns\n",
    "import matplotlib.pyplot as plt\n",
    "\n",
    "from scipy.stats import chi2_contingency\n",
    "import statsmodels.api as sm"
   ]
  },
  {
   "cell_type": "markdown",
   "metadata": {},
   "source": [
    "**[0.2]** Suppress Warning Messages"
   ]
  },
  {
   "cell_type": "code",
   "execution_count": 4,
   "metadata": {},
   "outputs": [],
   "source": [
    "import warnings\n",
    "warnings.filterwarnings('ignore', category=FutureWarning)"
   ]
  },
  {
   "cell_type": "markdown",
   "metadata": {
    "id": "_NCwQQFkU3v5"
   },
   "source": [
    "### 1.   Load Dataset"
   ]
  },
  {
   "cell_type": "code",
   "execution_count": 5,
   "metadata": {
    "id": "SiroVmhn9_HP"
   },
   "outputs": [],
   "source": [
    "file_url = 'https://raw.githubusercontent.com/SazzadSaran/FDS/main/dataset1.csv'\n",
    "\n",
    "# load CSV data into a pandas dattaframe\n",
    "df = pd.read_csv(file_url)"
   ]
  },
  {
   "cell_type": "markdown",
   "metadata": {
    "id": "8Ivx4xzphezz"
   },
   "source": [
    "### 2. Explore Dataset"
   ]
  },
  {
   "cell_type": "markdown",
   "metadata": {
    "id": "6IXEsCbv_ZIb"
   },
   "source": [
    "**[2.1]** Display first 5 rows of the dataset"
   ]
  },
  {
   "cell_type": "code",
   "execution_count": 6,
   "metadata": {
    "colab": {
     "base_uri": "https://localhost:8080/",
     "height": 244
    },
    "id": "SeVo97rOhezz",
    "outputId": "ede9038a-4c5a-464b-8291-e68d1500bc03"
   },
   "outputs": [
    {
     "data": {
      "text/html": [
       "<div>\n",
       "<style scoped>\n",
       "    .dataframe tbody tr th:only-of-type {\n",
       "        vertical-align: middle;\n",
       "    }\n",
       "\n",
       "    .dataframe tbody tr th {\n",
       "        vertical-align: top;\n",
       "    }\n",
       "\n",
       "    .dataframe thead th {\n",
       "        text-align: right;\n",
       "    }\n",
       "</style>\n",
       "<table border=\"1\" class=\"dataframe\">\n",
       "  <thead>\n",
       "    <tr style=\"text-align: right;\">\n",
       "      <th></th>\n",
       "      <th>ID</th>\n",
       "      <th>gender</th>\n",
       "      <th>minority</th>\n",
       "      <th>deprived</th>\n",
       "    </tr>\n",
       "  </thead>\n",
       "  <tbody>\n",
       "    <tr>\n",
       "      <th>0</th>\n",
       "      <td>1087360</td>\n",
       "      <td>0</td>\n",
       "      <td>0</td>\n",
       "      <td>0</td>\n",
       "    </tr>\n",
       "    <tr>\n",
       "      <th>1</th>\n",
       "      <td>1088938</td>\n",
       "      <td>0</td>\n",
       "      <td>1</td>\n",
       "      <td>0</td>\n",
       "    </tr>\n",
       "    <tr>\n",
       "      <th>2</th>\n",
       "      <td>1088953</td>\n",
       "      <td>0</td>\n",
       "      <td>1</td>\n",
       "      <td>0</td>\n",
       "    </tr>\n",
       "    <tr>\n",
       "      <th>3</th>\n",
       "      <td>1088961</td>\n",
       "      <td>0</td>\n",
       "      <td>1</td>\n",
       "      <td>0</td>\n",
       "    </tr>\n",
       "    <tr>\n",
       "      <th>4</th>\n",
       "      <td>1089147</td>\n",
       "      <td>0</td>\n",
       "      <td>1</td>\n",
       "      <td>0</td>\n",
       "    </tr>\n",
       "  </tbody>\n",
       "</table>\n",
       "</div>"
      ],
      "text/plain": [
       "        ID  gender  minority  deprived\n",
       "0  1087360       0         0         0\n",
       "1  1088938       0         1         0\n",
       "2  1088953       0         1         0\n",
       "3  1088961       0         1         0\n",
       "4  1089147       0         1         0"
      ]
     },
     "execution_count": 6,
     "metadata": {},
     "output_type": "execute_result"
    }
   ],
   "source": [
    "df.head()"
   ]
  },
  {
   "cell_type": "markdown",
   "metadata": {
    "id": "KYtxULGt_uZ-"
   },
   "source": [
    "**[2.2]** Check dimensions of the dataframe"
   ]
  },
  {
   "cell_type": "code",
   "execution_count": 7,
   "metadata": {
    "colab": {
     "base_uri": "https://localhost:8080/"
    },
    "id": "Gd6eGM81hez0",
    "outputId": "791c92db-23fc-4b12-ba8a-b078dd5e78b1"
   },
   "outputs": [
    {
     "data": {
      "text/plain": [
       "(120115, 4)"
      ]
     },
     "execution_count": 7,
     "metadata": {},
     "output_type": "execute_result"
    }
   ],
   "source": [
    "df.shape"
   ]
  },
  {
   "cell_type": "markdown",
   "metadata": {
    "id": "V-UBqQsa_0sr"
   },
   "source": [
    "There are 120115 rows and 4 columns in the dataset."
   ]
  },
  {
   "cell_type": "markdown",
   "metadata": {
    "id": "U6YYfTHt_-I7"
   },
   "source": [
    "**[2.3]** Display the summary of the dataframe"
   ]
  },
  {
   "cell_type": "code",
   "execution_count": 8,
   "metadata": {
    "colab": {
     "base_uri": "https://localhost:8080/"
    },
    "id": "L6eMrb1Dhez0",
    "outputId": "28e09c35-f0ae-4e76-9138-3d8932b9b3ff"
   },
   "outputs": [
    {
     "name": "stdout",
     "output_type": "stream",
     "text": [
      "<class 'pandas.core.frame.DataFrame'>\n",
      "RangeIndex: 120115 entries, 0 to 120114\n",
      "Data columns (total 4 columns):\n",
      " #   Column    Non-Null Count   Dtype\n",
      "---  ------    --------------   -----\n",
      " 0   ID        120115 non-null  int64\n",
      " 1   gender    120115 non-null  int64\n",
      " 2   minority  120115 non-null  int64\n",
      " 3   deprived  120115 non-null  int64\n",
      "dtypes: int64(4)\n",
      "memory usage: 3.7 MB\n"
     ]
    }
   ],
   "source": [
    "df.info()"
   ]
  },
  {
   "cell_type": "markdown",
   "metadata": {
    "id": "JAVVdslAAYO0"
   },
   "source": [
    "### 3. Descriptive Statistical Analysis"
   ]
  },
  {
   "cell_type": "code",
   "execution_count": 9,
   "metadata": {
    "colab": {
     "base_uri": "https://localhost:8080/",
     "height": 320
    },
    "id": "Zr4_3b8PAfpy",
    "outputId": "5bb16e7f-de6d-4721-b476-520eb59f4762"
   },
   "outputs": [
    {
     "data": {
      "text/html": [
       "<div>\n",
       "<style scoped>\n",
       "    .dataframe tbody tr th:only-of-type {\n",
       "        vertical-align: middle;\n",
       "    }\n",
       "\n",
       "    .dataframe tbody tr th {\n",
       "        vertical-align: top;\n",
       "    }\n",
       "\n",
       "    .dataframe thead th {\n",
       "        text-align: right;\n",
       "    }\n",
       "</style>\n",
       "<table border=\"1\" class=\"dataframe\">\n",
       "  <thead>\n",
       "    <tr style=\"text-align: right;\">\n",
       "      <th></th>\n",
       "      <th>ID</th>\n",
       "      <th>gender</th>\n",
       "      <th>minority</th>\n",
       "      <th>deprived</th>\n",
       "    </tr>\n",
       "  </thead>\n",
       "  <tbody>\n",
       "    <tr>\n",
       "      <th>count</th>\n",
       "      <td>1.201150e+05</td>\n",
       "      <td>120115.000000</td>\n",
       "      <td>120115.000000</td>\n",
       "      <td>120115.000000</td>\n",
       "    </tr>\n",
       "    <tr>\n",
       "      <th>mean</th>\n",
       "      <td>1.060058e+06</td>\n",
       "      <td>0.475819</td>\n",
       "      <td>0.240761</td>\n",
       "      <td>0.434800</td>\n",
       "    </tr>\n",
       "    <tr>\n",
       "      <th>std</th>\n",
       "      <td>3.467436e+04</td>\n",
       "      <td>0.499417</td>\n",
       "      <td>0.427547</td>\n",
       "      <td>0.495733</td>\n",
       "    </tr>\n",
       "    <tr>\n",
       "      <th>min</th>\n",
       "      <td>1.000001e+06</td>\n",
       "      <td>0.000000</td>\n",
       "      <td>0.000000</td>\n",
       "      <td>0.000000</td>\n",
       "    </tr>\n",
       "    <tr>\n",
       "      <th>25%</th>\n",
       "      <td>1.030030e+06</td>\n",
       "      <td>0.000000</td>\n",
       "      <td>0.000000</td>\n",
       "      <td>0.000000</td>\n",
       "    </tr>\n",
       "    <tr>\n",
       "      <th>50%</th>\n",
       "      <td>1.060058e+06</td>\n",
       "      <td>0.000000</td>\n",
       "      <td>0.000000</td>\n",
       "      <td>0.000000</td>\n",
       "    </tr>\n",
       "    <tr>\n",
       "      <th>75%</th>\n",
       "      <td>1.090086e+06</td>\n",
       "      <td>1.000000</td>\n",
       "      <td>0.000000</td>\n",
       "      <td>1.000000</td>\n",
       "    </tr>\n",
       "    <tr>\n",
       "      <th>max</th>\n",
       "      <td>1.120115e+06</td>\n",
       "      <td>1.000000</td>\n",
       "      <td>1.000000</td>\n",
       "      <td>1.000000</td>\n",
       "    </tr>\n",
       "  </tbody>\n",
       "</table>\n",
       "</div>"
      ],
      "text/plain": [
       "                 ID         gender       minority       deprived\n",
       "count  1.201150e+05  120115.000000  120115.000000  120115.000000\n",
       "mean   1.060058e+06       0.475819       0.240761       0.434800\n",
       "std    3.467436e+04       0.499417       0.427547       0.495733\n",
       "min    1.000001e+06       0.000000       0.000000       0.000000\n",
       "25%    1.030030e+06       0.000000       0.000000       0.000000\n",
       "50%    1.060058e+06       0.000000       0.000000       0.000000\n",
       "75%    1.090086e+06       1.000000       0.000000       1.000000\n",
       "max    1.120115e+06       1.000000       1.000000       1.000000"
      ]
     },
     "execution_count": 9,
     "metadata": {},
     "output_type": "execute_result"
    }
   ],
   "source": [
    "df.describe()"
   ]
  },
  {
   "cell_type": "markdown",
   "metadata": {
    "id": "kdMIcolkApjr"
   },
   "source": [
    "**[2.5]** Check missing values in each column"
   ]
  },
  {
   "cell_type": "code",
   "execution_count": 10,
   "metadata": {
    "colab": {
     "base_uri": "https://localhost:8080/"
    },
    "id": "aThtdbY2AoRk",
    "outputId": "502e6bee-33b7-457b-c699-63be2e8e7ff6"
   },
   "outputs": [
    {
     "data": {
      "text/plain": [
       "ID          0\n",
       "gender      0\n",
       "minority    0\n",
       "deprived    0\n",
       "dtype: int64"
      ]
     },
     "execution_count": 10,
     "metadata": {},
     "output_type": "execute_result"
    }
   ],
   "source": [
    "df.isnull().sum()"
   ]
  },
  {
   "cell_type": "markdown",
   "metadata": {
    "id": "4FcTJxs0Zu_l"
   },
   "source": [
    "There is no missing value in the dataset"
   ]
  },
  {
   "cell_type": "markdown",
   "metadata": {},
   "source": [
    "**[2.6]** Show distribution of values in 'gender' column"
   ]
  },
  {
   "cell_type": "code",
   "execution_count": 11,
   "metadata": {
    "id": "qYv6U-aGL1ol"
   },
   "outputs": [
    {
     "data": {
      "text/plain": [
       "gender\n",
       "0    62962\n",
       "1    57153\n",
       "Name: count, dtype: int64"
      ]
     },
     "execution_count": 11,
     "metadata": {},
     "output_type": "execute_result"
    }
   ],
   "source": [
    "df['gender'].value_counts()"
   ]
  },
  {
   "cell_type": "markdown",
   "metadata": {},
   "source": [
    "**[2.7]** Show distribution of values in 'minority' column"
   ]
  },
  {
   "cell_type": "code",
   "execution_count": 12,
   "metadata": {},
   "outputs": [
    {
     "data": {
      "text/plain": [
       "minority\n",
       "0    91196\n",
       "1    28919\n",
       "Name: count, dtype: int64"
      ]
     },
     "execution_count": 12,
     "metadata": {},
     "output_type": "execute_result"
    }
   ],
   "source": [
    "df['minority'].value_counts()"
   ]
  },
  {
   "cell_type": "markdown",
   "metadata": {},
   "source": [
    "**[2.8]** Show distribution of values in 'deprived' column"
   ]
  },
  {
   "cell_type": "code",
   "execution_count": 13,
   "metadata": {},
   "outputs": [
    {
     "data": {
      "text/plain": [
       "deprived\n",
       "0    67889\n",
       "1    52226\n",
       "Name: count, dtype: int64"
      ]
     },
     "execution_count": 13,
     "metadata": {},
     "output_type": "execute_result"
    }
   ],
   "source": [
    "df['deprived'].value_counts()"
   ]
  },
  {
   "cell_type": "markdown",
   "metadata": {},
   "source": [
    "**[2.9]** Show the distribution of different variables in barplots"
   ]
  },
  {
   "cell_type": "code",
   "execution_count": 14,
   "metadata": {},
   "outputs": [
    {
     "data": {
      "image/png": "[encoded data removed]",
      "text/plain": [
       "<Figure size 1000x400 with 1 Axes>"
      ]
     },
     "metadata": {},
     "output_type": "display_data"
    },
    {
     "name": "stdout",
     "output_type": "stream",
     "text": [
      "Ratio of the values in gender:\n",
      "gender\n",
      "0    0.524181\n",
      "1    0.475819\n",
      "Name: proportion, dtype: float64\n",
      "\n",
      "\n"
     ]
    },
    {
     "data": {
      "image/png": "[encoded data removed]",
      "text/plain": [
       "<Figure size 1000x400 with 1 Axes>"
      ]
     },
     "metadata": {},
     "output_type": "display_data"
    },
    {
     "name": "stdout",
     "output_type": "stream",
     "text": [
      "Ratio of the values in minority:\n",
      "minority\n",
      "0    0.759239\n",
      "1    0.240761\n",
      "Name: proportion, dtype: float64\n",
      "\n",
      "\n"
     ]
    },
    {
     "data": {
      "image/png": "[encoded data removed]",
      "text/plain": [
       "<Figure size 1000x400 with 1 Axes>"
      ]
     },
     "metadata": {},
     "output_type": "display_data"
    },
    {
     "name": "stdout",
     "output_type": "stream",
     "text": [
      "Ratio of the values in deprived:\n",
      "deprived\n",
      "0    0.5652\n",
      "1    0.4348\n",
      "Name: proportion, dtype: float64\n",
      "\n",
      "\n"
     ]
    }
   ],
   "source": [
    "relevant_cols = ['gender', 'minority', 'deprived']\n",
    "\n",
    "# Loop to plot the distribution and ratio of values\n",
    "for col in relevant_cols:\n",
    "    plt.figure(figsize=(10, 4))\n",
    "    sns.countplot(x=col, data=df, order=df[col].value_counts().index)\n",
    "    plt.title(f'Distribution of {col}')\n",
    "    plt.xticks(rotation=45)\n",
    "    plt.show()\n",
    "\n",
    "    # Print ratio of the values in the column (normalized counts)\n",
    "    print(f'Ratio of the values in {col}:')\n",
    "    print(df[col].value_counts(normalize=True))\n",
    "    print('\\n')"
   ]
  },
  {
   "cell_type": "markdown",
   "metadata": {},
   "source": [
    "**[2.10]** Show the percentage values of different categories between two variables"
   ]
  },
  {
   "cell_type": "code",
   "execution_count": 15,
   "metadata": {},
   "outputs": [
    {
     "name": "stdout",
     "output_type": "stream",
     "text": [
      "Percentage of male belongs to the majority ethical group:  76.64514548667611\n",
      "Percentage of male not belongs to the majority ethical group:  23.354854513323886\n"
     ]
    }
   ],
   "source": [
    "male_majority_group = df[(df['gender'] == 1) & (df['minority'] == 0)] \n",
    "# Calculate the total number of male respondents \n",
    "total_male = df[df['gender'] == 1].shape[0] \n",
    "# Calculate the percentage of male respondents belonging to the majority ethnic group \n",
    "percentage_male_majority_group = (male_majority_group.shape[0] / total_male) * 100 \n",
    "\n",
    "print(\"Percentage of male belongs to the majority ethical group: \",percentage_male_majority_group)\n",
    "print(\"Percentage of male not belongs to the majority ethical group: \",100-percentage_male_majority_group)"
   ]
  },
  {
   "cell_type": "code",
   "execution_count": 26,
   "metadata": {},
   "outputs": [
    {
     "data": {
      "image/png": "[encoded data removed]",
      "text/plain": [
       "<Figure size 600x400 with 1 Axes>"
      ]
     },
     "metadata": {},
     "output_type": "display_data"
    }
   ],
   "source": [
    "# Sample data to simulate the situation\n",
    "data = {\n",
    "    'gender': [1, 1, 0, 1, 0, 1, 0, 0, 1, 1],\n",
    "    'minority': [0, 1, 0, 0, 1, 1, 0, 1, 0, 0]\n",
    "}\n",
    "\n",
    "df = pd.DataFrame(data)\n",
    "\n",
    "# Filtering the male majority group\n",
    "male_majority_group = df[(df['gender'] == 1) & (df['minority'] == 0)]\n",
    "\n",
    "# Calculate the total number of male respondents\n",
    "total_male = df[df['gender'] == 1].shape[0]\n",
    "\n",
    "# Calculate the percentage of male respondents belonging to the majority ethnic group\n",
    "percentage_male_majority_group = 76.64514548667611\n",
    "percentage_male_not_majority_group = 100 - percentage_male_majority_group\n",
    "\n",
    "# Data for the bar chart\n",
    "categories = ['Majority Ethnic Group', 'Not Majority Ethnic Group']\n",
    "percentages = [percentage_male_majority_group, percentage_male_not_majority_group]\n",
    "\n",
    "# Plotting the bar chart\n",
    "plt.figure(figsize=(6,4))\n",
    "plt.bar(categories, percentages, color=['#ff9999', '#66b3ff'])\n",
    "\n",
    "# Adding title and labels\n",
    "plt.title('Percentage of Male Respondents in Majority vs Not Majority Ethnic Group')\n",
    "plt.ylabel('Percentage')\n",
    "plt.show()\n",
    "\n"
   ]
  },
  {
   "cell_type": "code",
   "execution_count": 16,
   "metadata": {},
   "outputs": [
    {
     "name": "stdout",
     "output_type": "stream",
     "text": [
      "Percentage of male residing in localities with high deprivation indices:  42.55594631952828\n",
      "Percentage of male residing outside localities with high deprivation indices:  57.44405368047172\n"
     ]
    }
   ],
   "source": [
    "male_deprived_group = df[(df['gender'] == 1) & (df['deprived'] == 1)] \n",
    "# Calculate the total number of male respondents \n",
    "total_male = df[df['gender'] == 1].shape[0] \n",
    "# Calculate the percentage of male respondents residing in localities with high deprivation indices \n",
    "percentage_male_deprived_group = (male_deprived_group.shape[0] / total_male) * 100 \n",
    "\n",
    "print(\"Percentage of male residing in localities with high deprivation indices: \",percentage_male_deprived_group)\n",
    "print(\"Percentage of male residing outside localities with high deprivation indices: \",100-percentage_male_deprived_group)"
   ]
  },
  {
   "cell_type": "code",
   "execution_count": 17,
   "metadata": {
    "scrolled": true
   },
   "outputs": [
    {
     "name": "stdout",
     "output_type": "stream",
     "text": [
      "Percentage of others belong to the majority ethical group:  75.26920999968235\n",
      "Percentage of others not belong to the majority ethical group:  24.730790000317654\n"
     ]
    }
   ],
   "source": [
    "others_majority_group = df[(df['gender'] == 0) & (df['minority'] == 0)] \n",
    "# Calculate the total number of others respondents \n",
    "total_others = df[df['gender'] == 0].shape[0] \n",
    "# Calculate the percentage of others respondents belonging to the majority ethnic group \n",
    "percentage_others_majority_group = (others_majority_group.shape[0] / total_others) * 100 \n",
    "\n",
    "print(\"Percentage of others belong to the majority ethical group: \",percentage_others_majority_group)\n",
    "print(\"Percentage of others not belong to the majority ethical group: \",100-percentage_others_majority_group)"
   ]
  },
  {
   "cell_type": "code",
   "execution_count": 18,
   "metadata": {},
   "outputs": [
    {
     "name": "stdout",
     "output_type": "stream",
     "text": [
      "Percentage of others residing in localities with high deprivation indices:  42.55594631952828\n",
      "Percentage of others residing outside localities with high deprivation indices:  57.44405368047172\n"
     ]
    }
   ],
   "source": [
    "others_deprived_group = df[(df['gender'] == 0) & (df['deprived'] == 1)] \n",
    "# Calculate the total number of others respondents \n",
    "total_others = df[df['gender'] == 0].shape[0] \n",
    "# Calculate the percentage of others respondents residing in localities with high deprivation indices \n",
    "percentage_others_deprived_group = (male_deprived_group.shape[0] / total_male) * 100 \n",
    "\n",
    "print(\"Percentage of others residing in localities with high deprivation indices: \",percentage_others_deprived_group)\n",
    "print(\"Percentage of others residing outside localities with high deprivation indices: \",100-percentage_others_deprived_group)"
   ]
  },
  {
   "cell_type": "code",
   "execution_count": 19,
   "metadata": {},
   "outputs": [
    {
     "name": "stdout",
     "output_type": "stream",
     "text": [
      "Percentage of majority residing in localities with high deprivation indices:  42.55594631952828\n",
      "Percentage of majority residing outside localities with high deprivation indices:  57.44405368047172\n"
     ]
    }
   ],
   "source": [
    "major_deprived_group = df[(df['minority'] == 0) & (df['deprived'] == 1)] \n",
    "# Calculate the total number of respondents of the majority \n",
    "total_major = df[df['minority'] == 0].shape[0] \n",
    "# Calculate the percentage of majority respondents residing in localities with high deprivation indices \n",
    "percentage_major_deprived_group = (major_deprived_group.shape[0] / total_major) * 100 \n",
    "\n",
    "print(\"Percentage of majority residing in localities with high deprivation indices: \",percentage_male_deprived_group)\n",
    "print(\"Percentage of majority residing outside localities with high deprivation indices: \",100-percentage_male_deprived_group)"
   ]
  },
  {
   "cell_type": "code",
   "execution_count": 20,
   "metadata": {},
   "outputs": [
    {
     "name": "stdout",
     "output_type": "stream",
     "text": [
      "Percentage of minor residing in localities with high deprivation indices:  64.7947716034441\n",
      "Percentage of minor residing outside localities with high deprivation indices:  35.205228396555896\n"
     ]
    }
   ],
   "source": [
    "minor_deprived_group = df[(df['minority'] == 1) & (df['deprived'] == 1)] \n",
    "# Calculate the total number of respondents of the minority\n",
    "total_minor = df[df['minority'] == 1].shape[0] \n",
    "# Calculate the percentage of minor respondents residing in localities with high deprivation indices \n",
    "percentage_minor_deprived_group = (minor_deprived_group.shape[0] / total_minor) * 100 \n",
    "\n",
    "print(\"Percentage of minor residing in localities with high deprivation indices: \",percentage_minor_deprived_group)\n",
    "print(\"Percentage of minor residing outside localities with high deprivation indices: \",100-percentage_minor_deprived_group)"
   ]
  },
  {
   "cell_type": "markdown",
   "metadata": {},
   "source": [
    "### We want to find out what percentage of 'male' and 'others' populations in the dataset who belong to the minority group (i.e., not belonging to the majority ethnic group) live in localities with high deprivation indices."
   ]
  },
  {
   "cell_type": "code",
   "execution_count": 21,
   "metadata": {},
   "outputs": [
    {
     "name": "stdout",
     "output_type": "stream",
     "text": [
      "64.17440815103387 % male minors lives in high-deprivation localities\n",
      "65.3265686211547 % others minors lives in high-deprivation localities\n"
     ]
    }
   ],
   "source": [
    "# Filter the dataset for male respondents (gender == 1), minority group (minority == 1), and high deprivation areas (deprived == 1) \n",
    "male_minority_deprived = df[(df['gender'] == 1) & (df['minority'] == 1) & (df['deprived'] == 1)] \n",
    "# Calculate the total number of male respondents in the minority group \n",
    "total_male_minority = df[(df['gender'] == 1) & (df['minority'] == 1)].shape[0] \n",
    "# Calculate the percentage of male respondents in the minority group who live in deprived localities\n",
    "percentage_male_minority_deprived = (male_minority_deprived.shape[0] / total_male_minority) * 100 \n",
    "# Print the percentage \n",
    "print(percentage_male_minority_deprived,\"% male minors lives in high-deprivation localities\")\n",
    "\n",
    "\n",
    "# Filter the dataset for others respondents (gender == 0), minority group (minority == 1), and high deprivation areas (deprived == 1) \n",
    "others_minority_deprived = df[(df['gender'] == 0) & (df['minority'] == 1) & (df['deprived'] == 1)] \n",
    "# Calculate the total number of others respondents in the minority group \n",
    "total_others_minority = df[(df['gender'] == 0) & (df['minority'] == 1)].shape[0] \n",
    "# Calculate the percentage of male respondents in the minority group who live in deprived localities\n",
    "percentage_others_minority_deprived = (others_minority_deprived.shape[0] / total_others_minority) * 100 \n",
    "# Print the percentage \n",
    "print(percentage_others_minority_deprived,\"% others minors lives in high-deprivation localities\")"
   ]
  },
  {
   "cell_type": "markdown",
   "metadata": {},
   "source": [
    "#### We can see that almost two-thirds of male (64.17%) who do not belong to the majority ethical group (minors) live in high-deprivation localities."
   ]
  },
  {
   "cell_type": "markdown",
   "metadata": {},
   "source": [
    "### 3. First Inferential Statistical Analysis"
   ]
  },
  {
   "cell_type": "markdown",
   "metadata": {},
   "source": [
    "We will experiment with a chi-square test with the hypothesis:\n",
    "\n",
    "**Null Hypothesis (H₀):**\n",
    "There is no association between gender and minority status. In other words, gender and minority status are independent of each other.\n",
    "\n",
    "**Alternative Hypothesis (H₁):**\n",
    "There is an association between gender and minority status. In other words, gender and minority status are not independent."
   ]
  },
  {
   "cell_type": "code",
   "execution_count": 23,
   "metadata": {},
   "outputs": [
    {
     "name": "stdout",
     "output_type": "stream",
     "text": [
      "Chi-Square Statistic: 30.952637325227045\n",
      "P-value: 2.6440254824826455e-08\n",
      "Degrees of Freedom: 1\n",
      "Expected Frequencies: \n",
      "[[47803.20985722 15158.79014278]\n",
      " [43392.79014278 13760.20985722]]\n"
     ]
    }
   ],
   "source": [
    "## Chi-Square Test\n",
    "\n",
    "from scipy.stats import chi2_contingency\n",
    "\n",
    "contingency_table = pd.crosstab(df['gender'], df['minority'])\n",
    "\n",
    "# Perform the Chi-Square test\n",
    "chi2, p, dof, expected = chi2_contingency(contingency_table)\n",
    "\n",
    "# Display the results\n",
    "print(f\"Chi-Square Statistic: {chi2}\")\n",
    "print(f\"P-value: {p}\")\n",
    "print(f\"Degrees of Freedom: {dof}\")\n",
    "print(f\"Expected Frequencies: \\n{expected}\")"
   ]
  },
  {
   "cell_type": "markdown",
   "metadata": {},
   "source": [
    "Since the p-value (2.64e-08) is much smaller than the significance level of 0.05, we reject the null hypothesis.\n",
    "And conclude that,\n",
    "there is no strong evidence to retain the null, meaning gender and minority status are not independent, meaning there is a statistically significant association between these two variables.\n"
   ]
  },
  {
   "cell_type": "markdown",
   "metadata": {},
   "source": [
    "### 4. Second Inferential Statistical Analysis"
   ]
  },
  {
   "cell_type": "markdown",
   "metadata": {},
   "source": [
    "We will experiment with two-proportion Z-test with the hypothesis:\n",
    "\n",
    "**Null Hypothesis (H₀):**\n",
    "The proportion of males living in deprived localities is equal to the proportion of females living in deprived localities. In other words, there is no difference between the proportions of males and females living in deprived areas.\n",
    "\n",
    "p_male = p_female\n",
    "\n",
    "**Alternative Hypothesis (H₁)**\n",
    "The proportion of males living in deprived localities is not equal to the proportion of females living in deprived localities. This means that there is a difference between the proportions of males and females living in deprived areas.\n",
    "\n",
    "p_male ≠ p_female"
   ]
  },
  {
   "cell_type": "code",
   "execution_count": 25,
   "metadata": {},
   "outputs": [
    {
     "name": "stdout",
     "output_type": "stream",
     "text": [
      "Z-Statistic: -6.155019843063043\n",
      "P-value: 7.506809593031805e-10\n"
     ]
    }
   ],
   "source": [
    "## A two-proportion Z test\n",
    "import statsmodels.api as sm\n",
    "\n",
    "# Number of males and others living in deprived localities\n",
    "male_deprived = df[(df['gender'] == 1) & (df['deprived'] == 1)].shape[0]\n",
    "others_deprived = df[(df['gender'] == 0) & (df['deprived'] == 1)].shape[0]\n",
    "\n",
    "# Total number of males and others in the dataset\n",
    "total_males = df[df['gender'] == 1].shape[0]\n",
    "total_others = df[df['gender'] == 0].shape[0]\n",
    "\n",
    "# Proportion of males and others in deprived localities\n",
    "prop_male_deprived = male_deprived / total_males\n",
    "prop_others_deprived = others_deprived / total_females\n",
    "\n",
    "# Number of successes (i.e., living in deprived localities) and total population for the two groups\n",
    "count = np.array([male_deprived, others_deprived])\n",
    "nobs = np.array([total_males, total_others])\n",
    "\n",
    "# Perform the two-proportion z-test\n",
    "z_stat, p_value = sm.stats.proportions_ztest(count, nobs)\n",
    "\n",
    "# Display the results\n",
    "print(f\"Z-Statistic: {z_stat}\")\n",
    "print(f\"P-value: {p_value}\")"
   ]
  },
  {
   "cell_type": "markdown",
   "metadata": {},
   "source": [
    "Since the p-value (7.51e-10) is much smaller than the significance level (α = 0.05), we reject the null hypothesis.\n",
    "And conclude that,\n",
    "there is not enough evidence to retain the null, meaning there is a statistically significant difference between the proportion of males and others living in deprived localities."
   ]
  },
  {
   "cell_type": "code",
   "execution_count": null,
   "metadata": {},
   "outputs": [],
   "source": []
  }
 ],
 "metadata": {
  "colab": {
   "provenance": []
  },
  "kernelspec": {
   "display_name": "Python 3 (ipykernel)",
   "language": "python",
   "name": "python3"
  },
  "language_info": {
   "codemirror_mode": {
    "name": "ipython",
    "version": 3
   },
   "file_extension": ".py",
   "mimetype": "text/x-python",
   "name": "python",
   "nbconvert_exporter": "python",
   "pygments_lexer": "ipython3",
   "version": "3.11.7"
  }
 },
 "nbformat": 4,
 "nbformat_minor": 4
}
