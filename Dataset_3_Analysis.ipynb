{
 "cells": [
  {
   "cell_type": "code",
   "execution_count": null,
   "metadata": {
    "id": "YDS03OEsbuoM"
   },
   "outputs": [],
   "source": [
    "import numpy as np\n",
    "import pandas as pd\n",
    "import seaborn as sns\n",
    "import matplotlib.pyplot as plt\n",
    "\n",
    "from scipy.stats import chi2_contingency\n",
    "import statsmodels.api as sm"
   ]
  },
  {
   "cell_type": "code",
   "execution_count": 10,
   "metadata": {},
   "outputs": [],
   "source": [
    "import warnings\n",
    "warnings.filterwarnings('ignore', category=FutureWarning)"
   ]
  },
  {
   "cell_type": "code",
   "execution_count": 26,
   "metadata": {},
   "outputs": [
    {
     "data": {
      "text/html": [
       "<div>\n",
       "<style scoped>\n",
       "    .dataframe tbody tr th:only-of-type {\n",
       "        vertical-align: middle;\n",
       "    }\n",
       "\n",
       "    .dataframe tbody tr th {\n",
       "        vertical-align: top;\n",
       "    }\n",
       "\n",
       "    .dataframe thead th {\n",
       "        text-align: right;\n",
       "    }\n",
       "</style>\n",
       "<table border=\"1\" class=\"dataframe\">\n",
       "  <thead>\n",
       "    <tr style=\"text-align: right;\">\n",
       "      <th></th>\n",
       "      <th>ID</th>\n",
       "      <th>Optm</th>\n",
       "      <th>Usef</th>\n",
       "      <th>Relx</th>\n",
       "      <th>Intp</th>\n",
       "      <th>Engs</th>\n",
       "      <th>Dealpr</th>\n",
       "      <th>Thcklr</th>\n",
       "      <th>Goodme</th>\n",
       "      <th>Clsep</th>\n",
       "      <th>Conf</th>\n",
       "      <th>Mkmind</th>\n",
       "      <th>Loved</th>\n",
       "      <th>Intthg</th>\n",
       "      <th>Cheer</th>\n",
       "    </tr>\n",
       "  </thead>\n",
       "  <tbody>\n",
       "    <tr>\n",
       "      <th>0</th>\n",
       "      <td>1087360</td>\n",
       "      <td>5</td>\n",
       "      <td>3</td>\n",
       "      <td>2</td>\n",
       "      <td>1</td>\n",
       "      <td>3</td>\n",
       "      <td>5</td>\n",
       "      <td>4</td>\n",
       "      <td>1</td>\n",
       "      <td>5</td>\n",
       "      <td>2</td>\n",
       "      <td>5</td>\n",
       "      <td>3</td>\n",
       "      <td>5</td>\n",
       "      <td>1</td>\n",
       "    </tr>\n",
       "    <tr>\n",
       "      <th>1</th>\n",
       "      <td>1094049</td>\n",
       "      <td>2</td>\n",
       "      <td>3</td>\n",
       "      <td>3</td>\n",
       "      <td>2</td>\n",
       "      <td>3</td>\n",
       "      <td>1</td>\n",
       "      <td>2</td>\n",
       "      <td>1</td>\n",
       "      <td>5</td>\n",
       "      <td>1</td>\n",
       "      <td>2</td>\n",
       "      <td>5</td>\n",
       "      <td>4</td>\n",
       "      <td>2</td>\n",
       "    </tr>\n",
       "    <tr>\n",
       "      <th>2</th>\n",
       "      <td>1094067</td>\n",
       "      <td>4</td>\n",
       "      <td>3</td>\n",
       "      <td>4</td>\n",
       "      <td>4</td>\n",
       "      <td>4</td>\n",
       "      <td>4</td>\n",
       "      <td>4</td>\n",
       "      <td>3</td>\n",
       "      <td>4</td>\n",
       "      <td>4</td>\n",
       "      <td>4</td>\n",
       "      <td>4</td>\n",
       "      <td>3</td>\n",
       "      <td>4</td>\n",
       "    </tr>\n",
       "    <tr>\n",
       "      <th>3</th>\n",
       "      <td>1097484</td>\n",
       "      <td>3</td>\n",
       "      <td>3</td>\n",
       "      <td>3</td>\n",
       "      <td>3</td>\n",
       "      <td>3</td>\n",
       "      <td>3</td>\n",
       "      <td>3</td>\n",
       "      <td>3</td>\n",
       "      <td>3</td>\n",
       "      <td>3</td>\n",
       "      <td>3</td>\n",
       "      <td>3</td>\n",
       "      <td>3</td>\n",
       "      <td>3</td>\n",
       "    </tr>\n",
       "    <tr>\n",
       "      <th>4</th>\n",
       "      <td>1102259</td>\n",
       "      <td>5</td>\n",
       "      <td>4</td>\n",
       "      <td>3</td>\n",
       "      <td>5</td>\n",
       "      <td>2</td>\n",
       "      <td>3</td>\n",
       "      <td>4</td>\n",
       "      <td>4</td>\n",
       "      <td>4</td>\n",
       "      <td>4</td>\n",
       "      <td>3</td>\n",
       "      <td>5</td>\n",
       "      <td>5</td>\n",
       "      <td>5</td>\n",
       "    </tr>\n",
       "  </tbody>\n",
       "</table>\n",
       "</div>"
      ],
      "text/plain": [
       "        ID  Optm  Usef  Relx  Intp  Engs  Dealpr  Thcklr  Goodme  Clsep  Conf  \\\n",
       "0  1087360     5     3     2     1     3       5       4       1      5     2   \n",
       "1  1094049     2     3     3     2     3       1       2       1      5     1   \n",
       "2  1094067     4     3     4     4     4       4       4       3      4     4   \n",
       "3  1097484     3     3     3     3     3       3       3       3      3     3   \n",
       "4  1102259     5     4     3     5     2       3       4       4      4     4   \n",
       "\n",
       "   Mkmind  Loved  Intthg  Cheer  \n",
       "0       5      3       5      1  \n",
       "1       2      5       4      2  \n",
       "2       4      4       3      4  \n",
       "3       3      3       3      3  \n",
       "4       3      5       5      5  "
      ]
     },
     "execution_count": 26,
     "metadata": {},
     "output_type": "execute_result"
    }
   ],
   "source": [
    "df_3 = pd.read_csv('https://raw.githubusercontent.com/SazzadSaran/FDS/main/dataset3.csv')\n",
    "df_3.head()"
   ]
  },
  {
   "cell_type": "code",
   "execution_count": 22,
   "metadata": {
    "colab": {
     "base_uri": "https://localhost:8080/",
     "height": 554
    },
    "id": "wbphMU90zbIP",
    "outputId": "2a465f2c-d444-4828-f90e-a0687c0a5237"
   },
   "outputs": [
    {
     "data": {
      "text/plain": [
       "ID        0\n",
       "Optm      0\n",
       "Usef      0\n",
       "Relx      0\n",
       "Intp      0\n",
       "Engs      0\n",
       "Dealpr    0\n",
       "Thcklr    0\n",
       "Goodme    0\n",
       "Clsep     0\n",
       "Conf      0\n",
       "Mkmind    0\n",
       "Loved     0\n",
       "Intthg    0\n",
       "Cheer     0\n",
       "dtype: int64"
      ]
     },
     "execution_count": 22,
     "metadata": {},
     "output_type": "execute_result"
    }
   ],
   "source": [
    "\"Missing values before cleaning:\"\n",
    "df_3.isnull().sum()"
   ]
  },
  {
   "cell_type": "code",
   "execution_count": 23,
   "metadata": {
    "colab": {
     "base_uri": "https://localhost:8080/"
    },
    "id": "X4XQ-q3HZoz9",
    "outputId": "37312d94-0dcd-45f8-f11d-ddd857dad0cc"
   },
   "outputs": [
    {
     "name": "stdout",
     "output_type": "stream",
     "text": [
      "<class 'pandas.core.frame.DataFrame'>\n",
      "RangeIndex: 102580 entries, 0 to 102579\n",
      "Data columns (total 15 columns):\n",
      " #   Column  Non-Null Count   Dtype\n",
      "---  ------  --------------   -----\n",
      " 0   ID      102580 non-null  int64\n",
      " 1   Optm    102580 non-null  int64\n",
      " 2   Usef    102580 non-null  int64\n",
      " 3   Relx    102580 non-null  int64\n",
      " 4   Intp    102580 non-null  int64\n",
      " 5   Engs    102580 non-null  int64\n",
      " 6   Dealpr  102580 non-null  int64\n",
      " 7   Thcklr  102580 non-null  int64\n",
      " 8   Goodme  102580 non-null  int64\n",
      " 9   Clsep   102580 non-null  int64\n",
      " 10  Conf    102580 non-null  int64\n",
      " 11  Mkmind  102580 non-null  int64\n",
      " 12  Loved   102580 non-null  int64\n",
      " 13  Intthg  102580 non-null  int64\n",
      " 14  Cheer   102580 non-null  int64\n",
      "dtypes: int64(15)\n",
      "memory usage: 11.7 MB\n"
     ]
    }
   ],
   "source": [
    "df_3.info()"
   ]
  },
  {
   "cell_type": "code",
   "execution_count": 24,
   "metadata": {
    "colab": {
     "base_uri": "https://localhost:8080/",
     "height": 320
    },
    "id": "IrgItFIbZuYC",
    "outputId": "8f0a0542-bad7-452c-a9f8-4d2fd12b3a2f"
   },
   "outputs": [
    {
     "data": {
      "text/html": [
       "<div>\n",
       "<style scoped>\n",
       "    .dataframe tbody tr th:only-of-type {\n",
       "        vertical-align: middle;\n",
       "    }\n",
       "\n",
       "    .dataframe tbody tr th {\n",
       "        vertical-align: top;\n",
       "    }\n",
       "\n",
       "    .dataframe thead th {\n",
       "        text-align: right;\n",
       "    }\n",
       "</style>\n",
       "<table border=\"1\" class=\"dataframe\">\n",
       "  <thead>\n",
       "    <tr style=\"text-align: right;\">\n",
       "      <th></th>\n",
       "      <th>ID</th>\n",
       "      <th>Optm</th>\n",
       "      <th>Usef</th>\n",
       "      <th>Relx</th>\n",
       "      <th>Intp</th>\n",
       "      <th>Engs</th>\n",
       "      <th>Dealpr</th>\n",
       "      <th>Thcklr</th>\n",
       "      <th>Goodme</th>\n",
       "      <th>Clsep</th>\n",
       "      <th>Conf</th>\n",
       "      <th>Mkmind</th>\n",
       "      <th>Loved</th>\n",
       "      <th>Intthg</th>\n",
       "      <th>Cheer</th>\n",
       "    </tr>\n",
       "  </thead>\n",
       "  <tbody>\n",
       "    <tr>\n",
       "      <th>count</th>\n",
       "      <td>1.025800e+05</td>\n",
       "      <td>102580.000000</td>\n",
       "      <td>102580.000000</td>\n",
       "      <td>102580.000000</td>\n",
       "      <td>102580.000000</td>\n",
       "      <td>102580.000000</td>\n",
       "      <td>102580.000000</td>\n",
       "      <td>102580.000000</td>\n",
       "      <td>102580.000000</td>\n",
       "      <td>102580.000000</td>\n",
       "      <td>102580.000000</td>\n",
       "      <td>102580.000000</td>\n",
       "      <td>102580.000000</td>\n",
       "      <td>102580.000000</td>\n",
       "      <td>102580.000000</td>\n",
       "    </tr>\n",
       "    <tr>\n",
       "      <th>mean</th>\n",
       "      <td>1.059921e+06</td>\n",
       "      <td>3.276087</td>\n",
       "      <td>3.107428</td>\n",
       "      <td>3.097826</td>\n",
       "      <td>3.272314</td>\n",
       "      <td>3.048050</td>\n",
       "      <td>3.369448</td>\n",
       "      <td>3.488039</td>\n",
       "      <td>3.273250</td>\n",
       "      <td>3.557116</td>\n",
       "      <td>3.308491</td>\n",
       "      <td>3.851267</td>\n",
       "      <td>3.897319</td>\n",
       "      <td>3.478748</td>\n",
       "      <td>3.496500</td>\n",
       "    </tr>\n",
       "    <tr>\n",
       "      <th>std</th>\n",
       "      <td>3.478290e+04</td>\n",
       "      <td>0.997897</td>\n",
       "      <td>0.953128</td>\n",
       "      <td>1.015441</td>\n",
       "      <td>1.018537</td>\n",
       "      <td>1.076483</td>\n",
       "      <td>1.049365</td>\n",
       "      <td>1.018274</td>\n",
       "      <td>1.126084</td>\n",
       "      <td>1.031297</td>\n",
       "      <td>1.115874</td>\n",
       "      <td>0.974468</td>\n",
       "      <td>1.069985</td>\n",
       "      <td>1.071329</td>\n",
       "      <td>1.012482</td>\n",
       "    </tr>\n",
       "    <tr>\n",
       "      <th>min</th>\n",
       "      <td>1.000001e+06</td>\n",
       "      <td>1.000000</td>\n",
       "      <td>1.000000</td>\n",
       "      <td>1.000000</td>\n",
       "      <td>1.000000</td>\n",
       "      <td>1.000000</td>\n",
       "      <td>1.000000</td>\n",
       "      <td>1.000000</td>\n",
       "      <td>1.000000</td>\n",
       "      <td>1.000000</td>\n",
       "      <td>1.000000</td>\n",
       "      <td>1.000000</td>\n",
       "      <td>1.000000</td>\n",
       "      <td>1.000000</td>\n",
       "      <td>1.000000</td>\n",
       "    </tr>\n",
       "    <tr>\n",
       "      <th>25%</th>\n",
       "      <td>1.029723e+06</td>\n",
       "      <td>3.000000</td>\n",
       "      <td>3.000000</td>\n",
       "      <td>2.000000</td>\n",
       "      <td>3.000000</td>\n",
       "      <td>2.000000</td>\n",
       "      <td>3.000000</td>\n",
       "      <td>3.000000</td>\n",
       "      <td>3.000000</td>\n",
       "      <td>3.000000</td>\n",
       "      <td>3.000000</td>\n",
       "      <td>3.000000</td>\n",
       "      <td>3.000000</td>\n",
       "      <td>3.000000</td>\n",
       "      <td>3.000000</td>\n",
       "    </tr>\n",
       "    <tr>\n",
       "      <th>50%</th>\n",
       "      <td>1.059760e+06</td>\n",
       "      <td>3.000000</td>\n",
       "      <td>3.000000</td>\n",
       "      <td>3.000000</td>\n",
       "      <td>3.000000</td>\n",
       "      <td>3.000000</td>\n",
       "      <td>3.000000</td>\n",
       "      <td>4.000000</td>\n",
       "      <td>3.000000</td>\n",
       "      <td>4.000000</td>\n",
       "      <td>3.000000</td>\n",
       "      <td>4.000000</td>\n",
       "      <td>4.000000</td>\n",
       "      <td>4.000000</td>\n",
       "      <td>4.000000</td>\n",
       "    </tr>\n",
       "    <tr>\n",
       "      <th>75%</th>\n",
       "      <td>1.090162e+06</td>\n",
       "      <td>4.000000</td>\n",
       "      <td>4.000000</td>\n",
       "      <td>4.000000</td>\n",
       "      <td>4.000000</td>\n",
       "      <td>4.000000</td>\n",
       "      <td>4.000000</td>\n",
       "      <td>4.000000</td>\n",
       "      <td>4.000000</td>\n",
       "      <td>4.000000</td>\n",
       "      <td>4.000000</td>\n",
       "      <td>5.000000</td>\n",
       "      <td>5.000000</td>\n",
       "      <td>4.000000</td>\n",
       "      <td>4.000000</td>\n",
       "    </tr>\n",
       "    <tr>\n",
       "      <th>max</th>\n",
       "      <td>1.120115e+06</td>\n",
       "      <td>5.000000</td>\n",
       "      <td>5.000000</td>\n",
       "      <td>5.000000</td>\n",
       "      <td>5.000000</td>\n",
       "      <td>5.000000</td>\n",
       "      <td>5.000000</td>\n",
       "      <td>5.000000</td>\n",
       "      <td>5.000000</td>\n",
       "      <td>5.000000</td>\n",
       "      <td>5.000000</td>\n",
       "      <td>5.000000</td>\n",
       "      <td>5.000000</td>\n",
       "      <td>5.000000</td>\n",
       "      <td>5.000000</td>\n",
       "    </tr>\n",
       "  </tbody>\n",
       "</table>\n",
       "</div>"
      ],
      "text/plain": [
       "                 ID           Optm           Usef           Relx  \\\n",
       "count  1.025800e+05  102580.000000  102580.000000  102580.000000   \n",
       "mean   1.059921e+06       3.276087       3.107428       3.097826   \n",
       "std    3.478290e+04       0.997897       0.953128       1.015441   \n",
       "min    1.000001e+06       1.000000       1.000000       1.000000   \n",
       "25%    1.029723e+06       3.000000       3.000000       2.000000   \n",
       "50%    1.059760e+06       3.000000       3.000000       3.000000   \n",
       "75%    1.090162e+06       4.000000       4.000000       4.000000   \n",
       "max    1.120115e+06       5.000000       5.000000       5.000000   \n",
       "\n",
       "                Intp           Engs         Dealpr         Thcklr  \\\n",
       "count  102580.000000  102580.000000  102580.000000  102580.000000   \n",
       "mean        3.272314       3.048050       3.369448       3.488039   \n",
       "std         1.018537       1.076483       1.049365       1.018274   \n",
       "min         1.000000       1.000000       1.000000       1.000000   \n",
       "25%         3.000000       2.000000       3.000000       3.000000   \n",
       "50%         3.000000       3.000000       3.000000       4.000000   \n",
       "75%         4.000000       4.000000       4.000000       4.000000   \n",
       "max         5.000000       5.000000       5.000000       5.000000   \n",
       "\n",
       "              Goodme          Clsep           Conf         Mkmind  \\\n",
       "count  102580.000000  102580.000000  102580.000000  102580.000000   \n",
       "mean        3.273250       3.557116       3.308491       3.851267   \n",
       "std         1.126084       1.031297       1.115874       0.974468   \n",
       "min         1.000000       1.000000       1.000000       1.000000   \n",
       "25%         3.000000       3.000000       3.000000       3.000000   \n",
       "50%         3.000000       4.000000       3.000000       4.000000   \n",
       "75%         4.000000       4.000000       4.000000       5.000000   \n",
       "max         5.000000       5.000000       5.000000       5.000000   \n",
       "\n",
       "               Loved         Intthg          Cheer  \n",
       "count  102580.000000  102580.000000  102580.000000  \n",
       "mean        3.897319       3.478748       3.496500  \n",
       "std         1.069985       1.071329       1.012482  \n",
       "min         1.000000       1.000000       1.000000  \n",
       "25%         3.000000       3.000000       3.000000  \n",
       "50%         4.000000       4.000000       4.000000  \n",
       "75%         5.000000       4.000000       4.000000  \n",
       "max         5.000000       5.000000       5.000000  "
      ]
     },
     "execution_count": 24,
     "metadata": {},
     "output_type": "execute_result"
    }
   ],
   "source": [
    "df_3.describe()"
   ]
  },
  {
   "cell_type": "markdown",
   "metadata": {
    "id": "l9c_iyoQaPy-"
   },
   "source": [
    "Show distribution of values in 'Optm' column"
   ]
  },
  {
   "cell_type": "code",
   "execution_count": null,
   "metadata": {
    "colab": {
     "base_uri": "https://localhost:8080/",
     "height": 272
    },
    "id": "pV0kKKXqZun7",
    "outputId": "4c20f9c7-786b-4e9b-fdc8-e4902cfac226"
   },
   "outputs": [
    {
     "data": {
      "text/html": [
       "<div>\n",
       "<style scoped>\n",
       "    .dataframe tbody tr th:only-of-type {\n",
       "        vertical-align: middle;\n",
       "    }\n",
       "\n",
       "    .dataframe tbody tr th {\n",
       "        vertical-align: top;\n",
       "    }\n",
       "\n",
       "    .dataframe thead th {\n",
       "        text-align: right;\n",
       "    }\n",
       "</style>\n",
       "<table border=\"1\" class=\"dataframe\">\n",
       "  <thead>\n",
       "    <tr style=\"text-align: right;\">\n",
       "      <th></th>\n",
       "      <th>count</th>\n",
       "    </tr>\n",
       "    <tr>\n",
       "      <th>Optm</th>\n",
       "      <th></th>\n",
       "    </tr>\n",
       "  </thead>\n",
       "  <tbody>\n",
       "    <tr>\n",
       "      <th>3</th>\n",
       "      <td>38306</td>\n",
       "    </tr>\n",
       "    <tr>\n",
       "      <th>4</th>\n",
       "      <td>33813</td>\n",
       "    </tr>\n",
       "    <tr>\n",
       "      <th>2</th>\n",
       "      <td>15230</td>\n",
       "    </tr>\n",
       "    <tr>\n",
       "      <th>5</th>\n",
       "      <td>10050</td>\n",
       "    </tr>\n",
       "    <tr>\n",
       "      <th>1</th>\n",
       "      <td>5181</td>\n",
       "    </tr>\n",
       "  </tbody>\n",
       "</table>\n",
       "</div><br><label><b>dtype:</b> int64</label>"
      ],
      "text/plain": [
       "Optm\n",
       "3    38306\n",
       "4    33813\n",
       "2    15230\n",
       "5    10050\n",
       "1     5181\n",
       "Name: count, dtype: int64"
      ]
     },
     "execution_count": 8,
     "metadata": {},
     "output_type": "execute_result"
    }
   ],
   "source": [
    "df_3['Optm'].value_counts()"
   ]
  },
  {
   "cell_type": "markdown",
   "metadata": {
    "id": "hRn7VnR7aVkY"
   },
   "source": [
    "Show distribution of values in 'Loved' column"
   ]
  },
  {
   "cell_type": "code",
   "execution_count": null,
   "metadata": {
    "colab": {
     "base_uri": "https://localhost:8080/",
     "height": 272
    },
    "id": "T6rfrGaGZu2S",
    "outputId": "c0ffcb43-1eee-4d9e-c60b-257f01c01123"
   },
   "outputs": [
    {
     "data": {
      "text/html": [
       "<div>\n",
       "<style scoped>\n",
       "    .dataframe tbody tr th:only-of-type {\n",
       "        vertical-align: middle;\n",
       "    }\n",
       "\n",
       "    .dataframe tbody tr th {\n",
       "        vertical-align: top;\n",
       "    }\n",
       "\n",
       "    .dataframe thead th {\n",
       "        text-align: right;\n",
       "    }\n",
       "</style>\n",
       "<table border=\"1\" class=\"dataframe\">\n",
       "  <thead>\n",
       "    <tr style=\"text-align: right;\">\n",
       "      <th></th>\n",
       "      <th>count</th>\n",
       "    </tr>\n",
       "    <tr>\n",
       "      <th>Loved</th>\n",
       "      <th></th>\n",
       "    </tr>\n",
       "  </thead>\n",
       "  <tbody>\n",
       "    <tr>\n",
       "      <th>5</th>\n",
       "      <td>36705</td>\n",
       "    </tr>\n",
       "    <tr>\n",
       "      <th>4</th>\n",
       "      <td>32921</td>\n",
       "    </tr>\n",
       "    <tr>\n",
       "      <th>3</th>\n",
       "      <td>21675</td>\n",
       "    </tr>\n",
       "    <tr>\n",
       "      <th>2</th>\n",
       "      <td>8274</td>\n",
       "    </tr>\n",
       "    <tr>\n",
       "      <th>1</th>\n",
       "      <td>3005</td>\n",
       "    </tr>\n",
       "  </tbody>\n",
       "</table>\n",
       "</div><br><label><b>dtype:</b> int64</label>"
      ],
      "text/plain": [
       "Loved\n",
       "5    36705\n",
       "4    32921\n",
       "3    21675\n",
       "2     8274\n",
       "1     3005\n",
       "Name: count, dtype: int64"
      ]
     },
     "execution_count": 10,
     "metadata": {},
     "output_type": "execute_result"
    }
   ],
   "source": [
    "df_3['Loved'].value_counts()"
   ]
  },
  {
   "cell_type": "markdown",
   "metadata": {
    "id": "TZX6pgGIbAJ5"
   },
   "source": [
    "Show distribution of values in 'Cheer' column"
   ]
  },
  {
   "cell_type": "code",
   "execution_count": null,
   "metadata": {
    "colab": {
     "base_uri": "https://localhost:8080/",
     "height": 272
    },
    "id": "J_KjcwskZu5z",
    "outputId": "75d89156-dbd2-4af7-ba37-ef51a9bfc197"
   },
   "outputs": [
    {
     "data": {
      "text/html": [
       "<div>\n",
       "<style scoped>\n",
       "    .dataframe tbody tr th:only-of-type {\n",
       "        vertical-align: middle;\n",
       "    }\n",
       "\n",
       "    .dataframe tbody tr th {\n",
       "        vertical-align: top;\n",
       "    }\n",
       "\n",
       "    .dataframe thead th {\n",
       "        text-align: right;\n",
       "    }\n",
       "</style>\n",
       "<table border=\"1\" class=\"dataframe\">\n",
       "  <thead>\n",
       "    <tr style=\"text-align: right;\">\n",
       "      <th></th>\n",
       "      <th>count</th>\n",
       "    </tr>\n",
       "    <tr>\n",
       "      <th>Cheer</th>\n",
       "      <th></th>\n",
       "    </tr>\n",
       "  </thead>\n",
       "  <tbody>\n",
       "    <tr>\n",
       "      <th>4</th>\n",
       "      <td>37500</td>\n",
       "    </tr>\n",
       "    <tr>\n",
       "      <th>3</th>\n",
       "      <td>32710</td>\n",
       "    </tr>\n",
       "    <tr>\n",
       "      <th>5</th>\n",
       "      <td>16498</td>\n",
       "    </tr>\n",
       "    <tr>\n",
       "      <th>2</th>\n",
       "      <td>12179</td>\n",
       "    </tr>\n",
       "    <tr>\n",
       "      <th>1</th>\n",
       "      <td>3693</td>\n",
       "    </tr>\n",
       "  </tbody>\n",
       "</table>\n",
       "</div><br><label><b>dtype:</b> int64</label>"
      ],
      "text/plain": [
       "Cheer\n",
       "4    37500\n",
       "3    32710\n",
       "5    16498\n",
       "2    12179\n",
       "1     3693\n",
       "Name: count, dtype: int64"
      ]
     },
     "execution_count": 11,
     "metadata": {},
     "output_type": "execute_result"
    }
   ],
   "source": [
    "df_3['Cheer'].value_counts()"
   ]
  },
  {
   "cell_type": "markdown",
   "metadata": {
    "id": "3CJra0GXbao_"
   },
   "source": [
    " Show the distribution of different variables in barplots\n"
   ]
  },
  {
   "cell_type": "code",
   "execution_count": null,
   "metadata": {
    "colab": {
     "base_uri": "https://localhost:8080/",
     "height": 1000
    },
    "id": "QJwBVKABbbBz",
    "outputId": "143a7ad6-20d5-4d59-a308-9b88409fd1df"
   },
   "outputs": [
    {
     "data": {
      "image/png": "[encoded data removed]",
      "text/plain": [
       "<Figure size 600x300 with 1 Axes>"
      ]
     },
     "metadata": {},
     "output_type": "display_data"
    },
    {
     "name": "stdout",
     "output_type": "stream",
     "text": [
      "Ratio of the values in Optm:\n",
      "Optm\n",
      "3    0.373426\n",
      "4    0.329626\n",
      "2    0.148469\n",
      "5    0.097972\n",
      "1    0.050507\n",
      "Name: proportion, dtype: float64\n",
      "\n",
      "\n"
     ]
    },
    {
     "data": {
      "image/png": "[encoded data removed]",
      "text/plain": [
       "<Figure size 600x300 with 1 Axes>"
      ]
     },
     "metadata": {},
     "output_type": "display_data"
    },
    {
     "name": "stdout",
     "output_type": "stream",
     "text": [
      "Ratio of the values in Loved:\n",
      "Loved\n",
      "5    0.357818\n",
      "4    0.320930\n",
      "3    0.211298\n",
      "2    0.080659\n",
      "1    0.029294\n",
      "Name: proportion, dtype: float64\n",
      "\n",
      "\n"
     ]
    },
    {
     "data": {
      "image/png": "[encoded data removed]",
      "text/plain": [
       "<Figure size 600x300 with 1 Axes>"
      ]
     },
     "metadata": {},
     "output_type": "display_data"
    },
    {
     "name": "stdout",
     "output_type": "stream",
     "text": [
      "Ratio of the values in Cheer:\n",
      "Cheer\n",
      "4    0.365568\n",
      "3    0.318873\n",
      "5    0.160831\n",
      "2    0.118727\n",
      "1    0.036001\n",
      "Name: proportion, dtype: float64\n",
      "\n",
      "\n"
     ]
    }
   ],
   "source": [
    "relevant_cols = ['Optm', 'Loved', 'Cheer']\n",
    "\n",
    "# Loop to plot the distribution and ratio of values\n",
    "for col in relevant_cols:\n",
    "    plt.figure(figsize=(6, 3))\n",
    "    sns.countplot(x=col, data=df_3, order=df_3[col].value_counts().index)\n",
    "    plt.title(f'Distribution of {col}')\n",
    "    plt.xticks(rotation=45)\n",
    "    plt.show()\n",
    "\n",
    "    # Print ratio of the values in the column (normalized counts)\n",
    "    print(f'Ratio of the values in {col}:')\n",
    "    print(df_3[col].value_counts(normalize=True))\n",
    "    print('\\n')"
   ]
  },
  {
   "cell_type": "markdown",
   "metadata": {
    "id": "YOUkzzrAcSCf"
   },
   "source": [
    "Show the percentage values of different categories between two variables"
   ]
  },
  {
   "cell_type": "code",
   "execution_count": null,
   "metadata": {
    "colab": {
     "base_uri": "https://localhost:8080/"
    },
    "id": "B5TreIRWcN52",
    "outputId": "8a93b6ce-d61c-48ad-cac7-2df27618d8a5"
   },
   "outputs": [
    {
     "name": "stdout",
     "output_type": "stream",
     "text": [
      "Percentage Distribution of 'Loved' and 'Cheer':\n",
      "Cheer          1          2          3          4          5\n",
      "Loved                                                       \n",
      "1      44.193012  25.357737  19.334443   7.653910   3.460899\n",
      "2      11.687213  38.324873  34.566111  12.146483   3.275320\n",
      "3       3.446367  19.907728  48.401384  23.741638   4.502884\n",
      "4       1.111752   7.858206  34.828833  47.446918   8.754291\n",
      "5       0.776461   3.661626  19.920992  42.225855  33.415066\n"
     ]
    }
   ],
   "source": [
    "\n",
    "# Create a crosstab to find the percentage distribution of 'Loved' and 'Cheer' categories\n",
    "\n",
    "loved_cheer_crosstab = pd.crosstab(df_3['Loved'], df_3['Cheer'], normalize='index') * 100\n",
    "\n",
    "# Display the crosstab with percentage values\n",
    "print(\"Percentage Distribution of 'Loved' and 'Cheer':\")\n",
    "print(loved_cheer_crosstab)\n"
   ]
  },
  {
   "cell_type": "markdown",
   "metadata": {
    "id": "GGjQb9sKfOMW"
   },
   "source": [
    "Percentage of Loved Respondents by Cheer Levels\n"
   ]
  },
  {
   "cell_type": "code",
   "execution_count": null,
   "metadata": {
    "colab": {
     "base_uri": "https://localhost:8080/",
     "height": 504
    },
    "id": "OzLV-RwzfOdx",
    "outputId": "6b087987-0dfc-44ec-ddfd-e4f9afce84be"
   },
   "outputs": [
    {
     "data": {
      "text/plain": [
       "<Figure size 1000x600 with 0 Axes>"
      ]
     },
     "metadata": {},
     "output_type": "display_data"
    },
    {
     "data": {
      "image/png": "[encoded data removed]",
      "text/plain": [
       "<Figure size 640x480 with 1 Axes>"
      ]
     },
     "metadata": {},
     "output_type": "display_data"
    }
   ],
   "source": [
    "# Create a crosstab to calculate the percentage of 'Loved' respondents within each level of 'Cheer'\n",
    "loved_cheer_percentage = pd.crosstab(df_3['Loved'], df_3['Cheer'], normalize='index') * 100\n",
    "\n",
    "\n",
    "# Plotting the percentage distribution of 'Loved' respondents by 'Cheer' levels\n",
    "plt.figure(figsize=(10,6))\n",
    "loved_cheer_percentage.plot(kind='bar', stacked=True, colormap='Blues')\n",
    "\n",
    "# Adding labels and title\n",
    "plt.title('Percentage of Loved Respondents by Cheer Levels', fontsize=14)\n",
    "plt.xlabel('Loved Levels', fontsize=12)\n",
    "plt.ylabel('Percentage (%)', fontsize=12)\n",
    "plt.legend(title='Cheer Levels', bbox_to_anchor=(1.05, 1), loc='upper left')\n",
    "\n",
    "# Show the plot\n",
    "plt.tight_layout()\n",
    "plt.show()"
   ]
  },
  {
   "cell_type": "markdown",
   "metadata": {
    "id": "DdmZiA-zhPKd"
   },
   "source": [
    " Inferential Statistical Analysis"
   ]
  },
  {
   "cell_type": "code",
   "execution_count": null,
   "metadata": {
    "colab": {
     "base_uri": "https://localhost:8080/"
    },
    "id": "hgumnKYphPbV",
    "outputId": "b8c92b0a-afbe-4e3d-e736-55f1dfbb14ea"
   },
   "outputs": [
    {
     "name": "stdout",
     "output_type": "stream",
     "text": [
      "Chi-Square Statistic: 44746.224942344394\n",
      "P-value: 0.0\n",
      "Degrees of Freedom: 16\n",
      "Expected Frequencies: \n",
      "[[  108.18351531   356.77417625   958.21358939  1098.53285241\n",
      "    483.29586664]\n",
      " [  297.87367908   982.34593488  2638.35581985  3024.71241957\n",
      "   1330.71214662]\n",
      " [  780.32535582  2573.40441607  6911.57389355  7923.69370248\n",
      "   3486.00263209]\n",
      " [ 1185.1945116   3908.60654124 10497.62049132 12034.87521934\n",
      "   5294.7032365 ]\n",
      " [ 1321.42293819  4357.86893157 11704.23620589 13418.1858062\n",
      "   5903.28611815]]\n"
     ]
    }
   ],
   "source": [
    "## Chi-Square Test\n",
    "\n",
    "from scipy.stats import chi2_contingency\n",
    "\n",
    "contingency_table = pd.crosstab(df_3['Loved'], df_3['Cheer'])\n",
    "\n",
    "# Perform the Chi-Square test\n",
    "chi2, p, dof, expected = chi2_contingency(contingency_table)\n",
    "\n",
    "# Display the results\n",
    "print(f\"Chi-Square Statistic: {chi2}\")\n",
    "print(f\"P-value: {p}\")\n",
    "print(f\"Degrees of Freedom: {dof}\")\n",
    "print(f\"Expected Frequencies: \\n{expected}\")"
   ]
  },
  {
   "cell_type": "markdown",
   "metadata": {
    "id": "B8q9PJdiiN8q"
   },
   "source": [
    "Linear Regression Analysis"
   ]
  },
  {
   "cell_type": "code",
   "execution_count": null,
   "metadata": {
    "colab": {
     "base_uri": "https://localhost:8080/",
     "height": 541
    },
    "id": "lnLDpigkiOUV",
    "outputId": "95d31fde-2a3d-43ba-a1ef-06a662c175f0"
   },
   "outputs": [
    {
     "name": "stdout",
     "output_type": "stream",
     "text": [
      "Intercept: 1.7618055705516693\n",
      "Coefficients: [0.10978962 0.31031132]\n",
      "Mean Squared Error: 0.8515685068859913\n",
      "R-squared: 0.14992684025861802\n"
     ]
    },
    {
     "data": {
      "image/png": "[encoded data removed]",
      "text/plain": [
       "<Figure size 640x480 with 1 Axes>"
      ]
     },
     "metadata": {},
     "output_type": "display_data"
    }
   ],
   "source": [
    "from sklearn.model_selection import train_test_split\n",
    "from sklearn.linear_model import LinearRegression\n",
    "from sklearn.metrics import mean_squared_error, r2_score\n",
    "\n",
    "\n",
    "# Defining independent variables (e.g., Loved and Cheer) and dependent variable (Optm)\n",
    "X = df_3[['Loved', 'Cheer']]  # Independent variables (features)\n",
    "y = df_3['Optm']              # Dependent variable (target - optimism)\n",
    "\n",
    "# Splitting the data into training and testing sets (80% training, 20% testing)\n",
    "X_train, X_test, y_train, y_test = train_test_split(X, y, test_size=0.2, random_state=42)\n",
    "\n",
    "# Create a Linear Regression model\n",
    "linear_reg = LinearRegression()\n",
    "\n",
    "# Train the model on the training data\n",
    "linear_reg.fit(X_train, y_train)\n",
    "\n",
    "# Make predictions on the test data\n",
    "y_pred = linear_reg.predict(X_test)\n",
    "\n",
    "# Evaluate the model's performance\n",
    "mse = mean_squared_error(y_test, y_pred)  # Mean Squared Error\n",
    "r2 = r2_score(y_test, y_pred)             # R-squared (coefficient of determination)\n",
    "\n",
    "# Display the results\n",
    "print(f\"Intercept: {linear_reg.intercept_}\")\n",
    "print(f\"Coefficients: {linear_reg.coef_}\")\n",
    "print(f\"Mean Squared Error: {mse}\")\n",
    "print(f\"R-squared: {r2}\")\n",
    "\n",
    "# Visualizing the relationship between actual and predicted values (for one variable)\n",
    "plt.scatter(X_test['Loved'], y_test, color='blue', label='Actual Optimism')\n",
    "plt.scatter(X_test['Loved'], y_pred, color='red', label='Predicted Optimism')\n",
    "plt.title('Linear Regression: Actual vs Predicted Optimism')\n",
    "plt.xlabel('Loved')\n",
    "plt.ylabel('Optimism')\n",
    "plt.legend()\n",
    "plt.show()"
   ]
  }
 ],
 "metadata": {
  "colab": {
   "provenance": []
  },
  "kernelspec": {
   "display_name": "Python 3 (ipykernel)",
   "language": "python",
   "name": "python3"
  },
  "language_info": {
   "codemirror_mode": {
    "name": "ipython",
    "version": 3
   },
   "file_extension": ".py",
   "mimetype": "text/x-python",
   "name": "python",
   "nbconvert_exporter": "python",
   "pygments_lexer": "ipython3",
   "version": "3.11.7"
  }
 },
 "nbformat": 4,
 "nbformat_minor": 4
}
